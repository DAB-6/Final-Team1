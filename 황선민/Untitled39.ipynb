{
  "nbformat": 4,
  "nbformat_minor": 0,
  "metadata": {
    "colab": {
      "provenance": []
    },
    "kernelspec": {
      "name": "python3",
      "display_name": "Python 3"
    },
    "language_info": {
      "name": "python"
    }
  },
  "cells": [
    {
      "cell_type": "code",
      "source": [
        "#한글 글씨 폰트 설치\n",
        "%%capture\n",
        "!sudo apt-get install -y fonts-nanum\n",
        "!sudo fc-cache -fv\n",
        "!rm ~/.cache/matplotlib -rf\n",
        "\n",
        "import matplotlib.pyplot as plt\n",
        "import matplotlib.font_manager as fm\n",
        "fm.fontManager.addfont('/usr/share/fonts/truetype/nanum/NanumGothic.ttf')\n",
        "plt.rcParams['font.family'] = 'NanumGothic'\n",
        "\n",
        "# 표에서 ('-') 마이너스 표시\n",
        "plt.rcParams['axes.unicode_minus'] = False"
      ],
      "metadata": {
        "id": "aNKMPzfqBbob"
      },
      "execution_count": 32,
      "outputs": []
    },
    {
      "cell_type": "markdown",
      "source": [
        "1차 분석"
      ],
      "metadata": {
        "id": "_9qfn7YhWTFg"
      }
    },
    {
      "cell_type": "markdown",
      "source": [
        "## Executive summary — 한눈에 보는 핵심 결과\n",
        "\n",
        "데이터 규모: 188,273 개 리뷰 / 약 11,557개 게임.\n",
        "\n",
        "타깃(정의): helpful = votes_up 상위 10% (데이터 기준 90th percentile = 417 votes_up) — 즉 ‘영향력 있는(바이럴) 리뷰’로 정의. (설명: 상위 10%는 실무에서 '영향력 리뷰'로 쓰기 적당한 균형)\n",
        "\n",
        "예측성(모델 성능): Random Forest (서브샘플 50k 기준) → ROC AUC ≈ 0.62 (테스트셋).\n",
        "\n",
        "해석: 예측이 꽤 제한적(완벽치 않음)하지만 **실무적 시그널(강한 특징 2~4개)**은 식별 가능.\n",
        "\n",
        "가장 중요한 피처 (RF)\n",
        "\n",
        "playtime_hours (리뷰 작성 시 플레이타임) — 최상위.\n",
        "\n",
        "author_num_games_owned (보유 게임 수)\n",
        "\n",
        "author_num_reviews (작성 리뷰 수 / 활동성)\n",
        "\n",
        "review_len_words (리뷰 길이)\n",
        "→ 요약: '오랫동안 플레이한(또는 여러 게임 보유한) 유저의 리뷰'가 커뮤니티에서 더 많이 표를 받는 경향.\n",
        "\n",
        "실무 인사이트(간단): 제작사·플랫폼은 \"오래 플레이한 핵심 유저\"가 남긴 긍정적 리뷰를 조기 탐지해(예: 리뷰 추천·홍보), 바이럴 마케팅과 출시판정(차기작 투자 판단)에 활용 가능."
      ],
      "metadata": {
        "id": "m7nJglRmU6t5"
      }
    },
    {
      "cell_type": "code",
      "source": [
        "# A) 데이터 로드 & 기본 확인\n",
        "import pandas as pd\n",
        "df = pd.read_csv(\"weighted_score_above_08_250924.csv\")\n",
        "# 깨진 컬럼명(바이트순서 표시) 삭제 처리\n",
        "df.columns = [c.strip().replace('\\ufeff','').replace('\"','').replace(\"'\", \"\") for c in df.columns]\n",
        "df.shape, df.columns.tolist()\n"
      ],
      "metadata": {
        "colab": {
          "base_uri": "https://localhost:8080/"
        },
        "id": "XD0bRPTwVc1R",
        "outputId": "97a7d79e-fcb5-4ca8-b0a9-5bb8f43fb99b"
      },
      "execution_count": 33,
      "outputs": [
        {
          "output_type": "execute_result",
          "data": {
            "text/plain": [
              "((188273, 41),\n",
              " ['recommendationid',\n",
              "  'appid',\n",
              "  'game',\n",
              "  'author_steamid',\n",
              "  'author_num_games_owned',\n",
              "  'author_num_reviews',\n",
              "  'author_playtime_forever',\n",
              "  'author_playtime_last_two_weeks',\n",
              "  'author_playtime_at_review',\n",
              "  'author_last_played',\n",
              "  'language',\n",
              "  'review',\n",
              "  'timestamp_created',\n",
              "  'timestamp_updated',\n",
              "  'voted_up',\n",
              "  'votes_up',\n",
              "  'votes_funny',\n",
              "  'weighted_vote_score',\n",
              "  'comment_count',\n",
              "  'steam_purchase',\n",
              "  'received_for_free',\n",
              "  'written_during_early_access',\n",
              "  'hidden_in_steam_china',\n",
              "  '_nllb_src',\n",
              "  'translated_en',\n",
              "  'is_outlier',\n",
              "  'genres1',\n",
              "  'genres2',\n",
              "  'genres3',\n",
              "  'is_free',\n",
              "  'ts',\n",
              "  'on_game_sale',\n",
              "  'discount_max',\n",
              "  'sale_start_utc',\n",
              "  'sale_end_utc',\n",
              "  'on_valve_event',\n",
              "  'event_start_utc',\n",
              "  'event_end_utc',\n",
              "  'sale_context',\n",
              "  'event_name',\n",
              "  'event_type'])"
            ]
          },
          "metadata": {},
          "execution_count": 33
        }
      ]
    },
    {
      "cell_type": "code",
      "source": [
        "# B) 타깃 정의 (현 프로젝트에서는 ‘영향력 있는 리뷰’)\n",
        "# votes_up을 정수로 정리\n",
        "df['votes_up'] = pd.to_numeric(df['votes_up'], errors='coerce').fillna(0).astype(int)\n",
        "threshold_90 = int(df['votes_up'].quantile(0.90))  # 상위 10% threshold\n",
        "df['helpful'] = (df['votes_up'] >= threshold_90).astype(int)\n",
        "# 선택 이유: 상위 10%를 '영향력 있는 리뷰'로 간주하면, 실무에서 '홍보/추천' 대상으로 쓸 만한 리뷰 집단을 잡을 수 있음."
      ],
      "metadata": {
        "id": "cQ8YQ0gqVkWk"
      },
      "execution_count": 34,
      "outputs": []
    },
    {
      "cell_type": "code",
      "source": [
        "# C) 특징공학 (feature engineering)\n",
        "# 텍스트 기반 기본 피처\n",
        "df['review'] = df['review'].fillna('')\n",
        "df['review_len_words'] = df['review'].str.split().apply(len)\n",
        "df['excl_count'] = df['review'].str.count('!')\n",
        "df['upper_ratio'] = df['review'].apply(lambda x: sum(ch.isupper() for ch in x)/(len(x)+1))\n",
        "\n",
        "# 플레이타임 (분 단위로 들어있는 경우가 많음 -> 시간 단위로)\n",
        "df['author_playtime_at_review'] = pd.to_numeric(df['author_playtime_at_review'], errors='coerce').fillna(0)\n",
        "df['playtime_hours'] = df['author_playtime_at_review'] / 60.0\n",
        "\n",
        "# 장르와 언어는 상위 N개만 범주화(원-핫 인코딩 대상)\n",
        "top_genres = df['genres1'].value_counts().nlargest(10).index.tolist()\n",
        "df['genres1_top'] = df['genres1'].where(df['genres1'].isin(top_genres), 'Other')\n",
        "\n",
        "top_langs = df['language'].value_counts().nlargest(10).index.tolist()\n",
        "df['language_top'] = df['language'].where(df['language'].isin(top_langs), 'Other')\n",
        "\n",
        "# 결측/플래그 정리\n",
        "for flag in ['is_free','on_game_sale','is_outlier','written_during_early_access']:\n",
        "    if flag in df.columns:\n",
        "        df[flag] = df[flag].fillna(0).astype(int)\n",
        "    else:\n",
        "        df[flag] = 0\n",
        "# 설계 포인트: 텍스트 감성 모델을 안 쓰더라도(간단한 시범), 리뷰 길이/느낌(느낌표 수/대문자 비율)만으로도 신호가 생김."
      ],
      "metadata": {
        "id": "cCGV7URsVtMP"
      },
      "execution_count": 35,
      "outputs": []
    },
    {
      "cell_type": "code",
      "source": [
        "# D) 모델링 파이프라인 (예: RandomForest), 평가\n",
        "from sklearn.pipeline import Pipeline\n",
        "from sklearn.compose import ColumnTransformer\n",
        "from sklearn.impute import SimpleImputer\n",
        "from sklearn.preprocessing import StandardScaler, OneHotEncoder\n",
        "from sklearn.ensemble import RandomForestClassifier\n",
        "from sklearn.model_selection import train_test_split\n",
        "from sklearn.metrics import roc_auc_score, classification_report, RocCurveDisplay\n",
        "\n",
        "features = ['playtime_hours','author_num_games_owned','author_num_reviews','review_len_words',\n",
        "            'excl_count','upper_ratio','is_free','on_game_sale','is_outlier','written_during_early_access',\n",
        "            'genres1_top','language_top']\n",
        "\n",
        "X = df[features].dropna()\n",
        "y = df.loc[X.index, 'helpful']\n",
        "\n",
        "# (대형 데이터인 경우) 서브샘플(예: 50k)로 빠른 실험\n",
        "if len(X) > 50000:\n",
        "    X = X.sample(50000, random_state=42)\n",
        "    y = y.loc[X.index]\n",
        "\n",
        "X_train, X_test, y_train, y_test = train_test_split(X, y, test_size=0.2, stratify=y, random_state=42)\n",
        "\n",
        "numeric_features = ['playtime_hours','author_num_games_owned','author_num_reviews','review_len_words','excl_count','upper_ratio']\n",
        "categorical_features = ['genres1_top','language_top']\n",
        "\n",
        "numeric_pipe = Pipeline([('imputer', SimpleImputer(strategy='median')), ('scaler', StandardScaler())])\n",
        "cat_pipe = Pipeline([('imputer', SimpleImputer(strategy='constant', fill_value='Unknown')),\n",
        "                     ('ohe', OneHotEncoder(handle_unknown='ignore', sparse_output=False))])\n",
        "\n",
        "preproc = ColumnTransformer([('num', numeric_pipe, numeric_features), ('cat', cat_pipe, categorical_features)])\n",
        "\n",
        "rf = Pipeline([('preproc', preproc), ('clf', RandomForestClassifier(n_estimators=120, random_state=42, n_jobs=1))])\n",
        "rf.fit(X_train, y_train)\n",
        "\n",
        "# 평가\n",
        "y_prob = rf.predict_proba(X_test)[:,1]\n",
        "print(\"ROC AUC:\", roc_auc_score(y_test, y_prob))\n",
        "print(classification_report(y_test, rf.predict(X_test)))\n",
        "RocCurveDisplay.from_estimator(rf, X_test, y_test)\n",
        "# ROC AUC ≈ 0.62 (테스트셋). 실무적 해석: '완벽한 예측'은 아니지만 명확한 신호(feature)가 존재함."
      ],
      "metadata": {
        "colab": {
          "base_uri": "https://localhost:8080/",
          "height": 651
        },
        "id": "3dYX4g8nVzeK",
        "outputId": "678b2c3c-a6da-4328-d274-d1249617162b"
      },
      "execution_count": 37,
      "outputs": [
        {
          "output_type": "stream",
          "name": "stdout",
          "text": [
            "ROC AUC: 0.6199801057730328\n",
            "              precision    recall  f1-score   support\n",
            "\n",
            "           0       0.90      0.99      0.95      8992\n",
            "           1       0.31      0.02      0.04      1008\n",
            "\n",
            "    accuracy                           0.90     10000\n",
            "   macro avg       0.60      0.51      0.49     10000\n",
            "weighted avg       0.84      0.90      0.85     10000\n",
            "\n"
          ]
        },
        {
          "output_type": "execute_result",
          "data": {
            "text/plain": [
              "<sklearn.metrics._plot.roc_curve.RocCurveDisplay at 0x7cd370614a40>"
            ]
          },
          "metadata": {},
          "execution_count": 37
        },
        {
          "output_type": "display_data",
          "data": {
            "text/plain": [
              "<Figure size 640x480 with 1 Axes>"
            ],
            "image/png": "[encoded data removed]"
          },
          "metadata": {}
        }
      ]
    },
    {
      "cell_type": "code",
      "source": [
        "# E) 피처 중요도(해석)\n",
        "# RandomForest의 feature_importances_ 가져오기 (전처리 후 컬럼명 매핑)\n",
        "ohe = rf.named_steps['preproc'].transformers_[1][1].named_steps['ohe']\n",
        "ohe_names = list(ohe.get_feature_names_out(categorical_features))\n",
        "feature_names = numeric_features + ohe_names\n",
        "importances = rf.named_steps['clf'].feature_importances_\n",
        "import pandas as pd\n",
        "fi_df = pd.DataFrame({'feature': feature_names, 'importance': importances}).sort_values('importance', ascending=False)\n",
        "print(fi_df.head(15))\n",
        "# 실행 결과 상위으로 중요"
      ],
      "metadata": {
        "colab": {
          "base_uri": "https://localhost:8080/"
        },
        "id": "nmfMl39OV5Bt",
        "outputId": "c8cb4465-e646-45a4-870c-6a38c85f0358"
      },
      "execution_count": 38,
      "outputs": [
        {
          "output_type": "stream",
          "name": "stdout",
          "text": [
            "                   feature  importance\n",
            "0           playtime_hours    0.328085\n",
            "1   author_num_games_owned    0.299952\n",
            "2       author_num_reviews    0.187107\n",
            "3         review_len_words    0.123963\n",
            "24   language_top_schinese    0.009906\n",
            "6       genres1_top_Action    0.006446\n",
            "19    language_top_english    0.004836\n",
            "7    genres1_top_Adventure    0.004527\n",
            "8       genres1_top_Casual    0.004373\n",
            "12       genres1_top_Other    0.003722\n",
            "10       genres1_top_Indie    0.003635\n",
            "13         genres1_top_RPG    0.003445\n",
            "16    genres1_top_Strategy    0.003115\n",
            "15  genres1_top_Simulation    0.003099\n",
            "23    language_top_russian    0.002555\n"
          ]
        }
      ]
    },
    {
      "cell_type": "markdown",
      "source": [
        "# 추가 분석\n",
        "타깃 정의의 편향성 (상위 10% 글로벌 기준)\n",
        "\n",
        "votes_up >= 417 은 전체 플랫폼에서 인기/노출이 큰 게임·리뷰에 집중됨.\n",
        "\n",
        "문제: 게임별(또는 장르/언어별) 차이를 무시하면 ‘인기 게임 효과’가 타깃 결정에 그대로 반영됨 → 실제로는 “소수 인기 게임의 리뷰만 잘 맞추는 모델”이 될 위험.\n",
        "\n",
        "게임-레벨(집단) 효과 미반영\n",
        "\n",
        "리뷰는 appid(게임)마다 군집화돼 있음. 게임별 노출·유저풀·커뮤니티 크기가 달라서 동일한 리뷰 품질이라도 votes_up이 달라질 수 있음.\n",
        "\n",
        "문제: 게임 고정효과(또는 랜덤효과)를 통제하지 않으면 편향된 피처 중요도와 오해된 인사이트 발생.\n",
        "\n",
        "시간(타임스탬프)·경과시간 효과 미반영\n",
        "\n",
        "오래된 리뷰는 누적표가 많아질 가능성이 큼. 리뷰 작성 시점과 현재 시점의 시간차(또는 리뷰가 공개된 기간)를 고려하지 않음.\n",
        "\n",
        "문제: ‘리뷰 연령’ 때문에 votes_up이 결정되는데, 모델은 이를 모른 채 다른 변수(예: playtime)를 과대평가할 수 있음.\n",
        "\n",
        "노이즈/아웃라이어·데이터 전처리 세부 보완 필요\n",
        "\n",
        "author_playtime_at_review 단위(분) 가정으로 시간 변환했으나 극단값(매우 큰 값) 존재 → 아웃라이어 처리·단위확인 필요.\n",
        "\n",
        "파일명(weighted_score_above_08)으로 보아 이미 필터링된 데이터일 가능성 → 표본 편향.\n",
        "\n",
        "텍스트 분석이 얕음\n",
        "\n",
        "리뷰 텍스트에서 단순 길이/느낌표/대문자비만 사용 → **내용(감성, 주제)**을 가져오지 못함.\n",
        "\n",
        "문제: 핵심 시그널(예: \"스토리\", \"버그\", \"P2W\")은 텍스트 내용에 있고, 이걸 모델에 넣어야 성능이 크게 개선됨.\n",
        "\n",
        "성능 지표가 단일(AUC) 중심\n",
        "\n",
        "ROC AUC ≈ 0.62 만 보고 “모델이 유용”이라 단정하면 안 됨.\n",
        "\n",
        "불균형 문제(상위10%)에서 AUC만으로는 실제 비즈니스 지표(precision@k, lift, PR AUC 등)가 알려지지 않음.\n",
        "\n",
        "인과관계 주장 위험\n",
        "\n",
        "“투표 많은 리뷰 → 판매 증가” 같은 인과를 말하려면 시계열/실험적 증거 필요. 현재는 관찰적 상관분석에 불과."
      ],
      "metadata": {
        "id": "kpRdX3DIYTvf"
      }
    },
    {
      "cell_type": "code",
      "source": [
        "# 1) 게임내 정규화 & 비교\n",
        "# votes_up: 각 리뷰가 받은 추천 수\n",
        "df['votes_up'] = pd.to_numeric(df['votes_up'], errors='coerce').fillna(0).astype(int)\n",
        "\n",
        "# 게임별 백분위수: 같은 게임 내에서 추천 수가 어느 정도 위치인지\n",
        "df['votes_up_game_pct'] = df.groupby('appid')['votes_up'].transform(lambda x: x.rank(pct=True))\n",
        "\n",
        "# 게임 내 상위 10% 리뷰라면 helpful = 1, 아니면 0\n",
        "df['helpful_game_norm'] = (df['votes_up_game_pct'] >= 0.90).astype(int)\n",
        "\n",
        "# 👉 의미: 글로벌 상위 10% 기준 대신 게임마다 상위 10% 리뷰를 Helpful로 정의.\n",
        "# 👉 왜: 인기 게임 편향을 줄이고, 소규모 게임에서도 의미 있는 리뷰가 잡히도록 하기 위해."
      ],
      "metadata": {
        "id": "cac8x5iZYei4"
      },
      "execution_count": null,
      "outputs": []
    },
    {
      "cell_type": "code",
      "source": [
        "# 2) ⏰ 시간 효과 보정 (리뷰 나이 고려)\n",
        "df['timestamp_created'] = pd.to_datetime(df['timestamp_created'], errors='coerce')\n",
        "df['days_since_review'] = (pd.Timestamp('now', tz='UTC') - df['timestamp_created']).dt.days\n",
        "\n",
        "# 리뷰가 올라온 지 오래되면 추천수가 쌓이기 쉬우므로, 추천수/일 로 정규화\n",
        "df['votes_per_day'] = df['votes_up'] / (df['days_since_review'] + 1)\n",
        "\n",
        "# 👉 의미: 오래된 리뷰일수록 유리한 누적효과를 제거.\n",
        "# 👉 왜: ‘좋은 리뷰라서 추천이 많다’와 ‘단순히 오래돼서 많다’를 구분하려고."
      ],
      "metadata": {
        "id": "IDuv9Hi8ZU8u"
      },
      "execution_count": null,
      "outputs": []
    },
    {
      "cell_type": "code",
      "source": [
        "# 3) 📊 게임 레벨 피처 추가\n",
        "# 게임 단위 집계값 생성\n",
        "game_agg = df.groupby('appid').agg(\n",
        "    game_review_count=('recommendationid', 'count'),   # 그 게임의 리뷰 수\n",
        "    game_votes_sum=('votes_up', 'sum'),                # 전체 추천 수\n",
        "    game_avg_votes=('votes_up', 'mean')                # 평균 추천 수\n",
        ").reset_index()\n",
        "\n",
        "# 원본 데이터에 합치기\n",
        "df = df.merge(game_agg, on='appid', how='left')\n",
        "\n",
        "\n",
        "# 👉 의미: 리뷰가 속한 게임의 규모(인기도)를 피처로 추가.\n",
        "# 👉 왜: 같은 품질의 리뷰라도 인기 게임에서는 추천이 더 잘 달리므로 게임 효과를 통제해야 함."
      ],
      "metadata": {
        "id": "nyiApx6xZdbO"
      },
      "execution_count": null,
      "outputs": []
    },
    {
      "cell_type": "code",
      "source": [
        "# 4) 🔀 GroupKFold 검증 (게임 단위 분리)\n",
        "from sklearn.model_selection import GroupKFold, cross_val_score\n",
        "\n",
        "X = df[[\"playtime_hours\", \"review_len_words\", \"author_num_games_owned\", \"game_review_count\"]]\n",
        "y = df[\"helpful_game_norm\"]\n",
        "\n",
        "from sklearn.ensemble import RandomForestClassifier\n",
        "clf = RandomForestClassifier(n_estimators=200, random_state=42)\n",
        "\n",
        "# 게임(appid) 단위로 데이터를 나눠서 교차검증\n",
        "gkf = GroupKFold(n_splits=5)\n",
        "scores = cross_val_score(clf, X, y, cv=gkf.split(X, y, groups=df['appid']), scoring='roc_auc')\n",
        "\n",
        "print(\"GroupKFold AUC scores:\", scores)\n",
        "print(\"Mean AUC:\", scores.mean())\n",
        "\n",
        "# 👉 의미: 같은 게임 리뷰가 train/test에 동시에 들어가면 과적합이 생김 → 이를 방지.\n",
        "# 👉 왜: 게임 단위로 분리해야 모델이 새로운 게임에도 일반화되는지 확인 가능."
      ],
      "metadata": {
        "id": "TyCl1V7WYkWa"
      },
      "execution_count": null,
      "outputs": []
    },
    {
      "cell_type": "code",
      "source": [
        "5) 📝 TF-IDF 기반 텍스트 특징 추출\n",
        "from sklearn.feature_extraction.text import TfidfVectorizer\n",
        "from sklearn.linear_model import LogisticRegression\n",
        "from sklearn.pipeline import make_pipeline\n",
        "\n",
        "# 리뷰 텍스트에서 단어 빈도 기반 피처 뽑기\n",
        "tfidf = TfidfVectorizer(max_features=5000, ngram_range=(1,2))\n",
        "\n",
        "# TF-IDF + 로지스틱 회귀 분류기\n",
        "model = make_pipeline(tfidf, LogisticRegression(max_iter=200))\n",
        "model.fit(df['review'], df['helpful_game_norm'])\n",
        "\n",
        "# 👉 의미: 리뷰 텍스트 자체(내용)를 피처로 사용.\n",
        "# 👉 왜: 단순 길이/느낌표보다 어떤 단어가 포함됐는지가 helpful 여부에 큰 영향을 줌."
      ],
      "metadata": {
        "id": "2mCXaLweYn_w"
      },
      "execution_count": null,
      "outputs": []
    },
    {
      "cell_type": "code",
      "source": [
        "# 6) 🎯 Precision@K 계산 (비즈니스 지표)\n",
        "import numpy as np\n",
        "\n",
        "# 예측 확률 (helpful=1 일 확률)\n",
        "y_prob = clf.predict_proba(X)[:,1]\n",
        "y_true = y.reset_index(drop=True)\n",
        "\n",
        "def precision_at_k(y_true, y_score, k=1000):\n",
        "    idx = np.argsort(y_score)[-k:]  # 확률 상위 K개 인덱스\n",
        "    return y_true.iloc[idx].mean()\n",
        "\n",
        "print(\"Precision@1000:\", precision_at_k(y_true, y_prob, k=1000))\n",
        "\n",
        "# 👉 의미: 상위 1000개 추천 리뷰 중 실제로 helpful인 리뷰 비율.\n",
        "# 👉 왜: ROC AUC보다 실제 운영 상황(“상위 몇 개만 띄워줄 때 정확한가?”)을 보여주는 지표가 더 직관적."
      ],
      "metadata": {
        "id": "ngzTedbLYrL9"
      },
      "execution_count": null,
      "outputs": []
    },
    {
      "cell_type": "code",
      "source": [
        "# 7) 🔍 SHAP 해석 (모델 해석용)\n",
        "import shap\n",
        "\n",
        "explainer = shap.TreeExplainer(clf)\n",
        "shap_values = explainer.shap_values(X)\n",
        "\n",
        "# 전체 feature 중요도 요약 시각화\n",
        "shap.summary_plot(shap_values, X)\n",
        "\n",
        "# 👉 의미: 모델이 어떤 피처 때문에 helpful=1 확률을 높게/낮게 판단했는지 시각화.\n",
        "# 👉 왜: 발표/포트폴리오에서 “블랙박스 모델이 아니라 이렇게 해석된다”를 보여주면 신뢰도가 높아짐."
      ],
      "metadata": {
        "id": "WPWKuw55Z1k2"
      },
      "execution_count": null,
      "outputs": []
    },
    {
      "cell_type": "markdown",
      "source": [
        "✅ 정리\n",
        "\n",
        "정규화 타깃(게임 내, 시간 보정): 편향 줄이기\n",
        "\n",
        "게임 메타 피처 + GroupKFold: 일반화 성능 확보\n",
        "\n",
        "TF-IDF 텍스트 분석: 내용 자체 반영 → 성능 업\n",
        "\n",
        "Precision@K, SHAP: 실제 활용 가능성과 해석력 강화"
      ],
      "metadata": {
        "id": "HehzmIOWZ7iw"
      }
    },
    {
      "cell_type": "markdown",
      "source": [
        "\n",
        "\n",
        "---\n",
        "\n"
      ],
      "metadata": {
        "id": "iIZbvkLlWEZw"
      }
    },
    {
      "cell_type": "markdown",
      "source": [
        "2차 분석\n",
        "\n"
      ],
      "metadata": {
        "id": "IJxaIcDoVhxJ"
      }
    },
    {
      "cell_type": "markdown",
      "source": [
        "위 코드를 검토하여 1차 통합"
      ],
      "metadata": {
        "id": "uJyke9cHWac0"
      }
    },
    {
      "cell_type": "code",
      "source": [
        "# ==================================================\n",
        "# 1️⃣ 라이브러리 불러오기\n",
        "# ==================================================\n",
        "import pandas as pd\n",
        "import numpy as np\n",
        "from sklearn.model_selection import train_test_split\n",
        "from sklearn.preprocessing import StandardScaler, OneHotEncoder\n",
        "from sklearn.impute import SimpleImputer\n",
        "from sklearn.compose import ColumnTransformer\n",
        "from sklearn.pipeline import Pipeline, FeatureUnion\n",
        "from sklearn.ensemble import RandomForestClassifier\n",
        "from sklearn.feature_extraction.text import TfidfVectorizer\n",
        "from sklearn.metrics import roc_auc_score, classification_report, RocCurveDisplay\n",
        "import shap\n",
        "\n",
        "# ==================================================\n",
        "# 2️⃣ 데이터 불러오기 및 컬럼 정리\n",
        "# ==================================================\n",
        "df = pd.read_csv(\"/content/weighted_score_above_08_250924.csv\")\n",
        "df.columns = [c.strip().replace('\\ufeff','').replace('\"','').replace(\"'\", \"\") for c in df.columns]\n",
        "\n",
        "# ==================================================\n",
        "# 3️⃣ votes_up 기반 helpful 변수 생성\n",
        "# ==================================================\n",
        "df['votes_up'] = pd.to_numeric(df['votes_up'], errors='coerce').fillna(0).astype(int)\n",
        "threshold_90 = int(df['votes_up'].quantile(0.90))\n",
        "df['helpful'] = (df['votes_up'] >= threshold_90).astype(int)\n",
        "\n",
        "# ==================================================\n",
        "# 4️⃣ 텍스트 기반 피처 생성\n",
        "# ==================================================\n",
        "df['review'] = df['review'].fillna('')\n",
        "df['review_len_words'] = df['review'].str.split().apply(len)\n",
        "df['excl_count'] = df['review'].str.count('!')\n",
        "df['upper_ratio'] = df['review'].apply(lambda x: sum(ch.isupper() for ch in x)/(len(x)+1))\n",
        "\n",
        "# ==================================================\n",
        "# 5️⃣ 플레이타임 및 범주형 피처 정리\n",
        "# ==================================================\n",
        "df['author_playtime_at_review'] = pd.to_numeric(df['author_playtime_at_review'], errors='coerce').fillna(0)\n",
        "df['playtime_hours'] = df['author_playtime_at_review'] / 60.0\n",
        "\n",
        "top_genres = df['genres1'].value_counts().nlargest(10).index\n",
        "df['genres1_top'] = df['genres1'].where(df['genres1'].isin(top_genres), 'Other')\n",
        "\n",
        "top_langs = df['language'].value_counts().nlargest(10).index\n",
        "df['language_top'] = df['language'].where(df['language'].isin(top_langs), 'Other')\n",
        "\n",
        "flags = ['is_free','on_game_sale','is_outlier','written_during_early_access']\n",
        "for flag in flags:\n",
        "    df[flag] = df.get(flag, 0).fillna(0).astype(int)\n",
        "\n",
        "# ==================================================\n",
        "# 6️⃣ 날짜 기반 피처\n",
        "# ==================================================\n",
        "df['timestamp_created'] = pd.to_datetime(df['timestamp_created'])\n",
        "df['days_since_review'] = (pd.Timestamp('now', tz='UTC') - df['timestamp_created']).dt.days\n",
        "df['votes_per_day'] = df['votes_up'] / (df['days_since_review'] + 1)\n",
        "\n",
        "# ==================================================\n",
        "# 7️⃣ 학습용 데이터 준비\n",
        "# ==================================================\n",
        "numeric_features = ['playtime_hours','author_num_games_owned','author_num_reviews','review_len_words','excl_count','upper_ratio','votes_per_day']\n",
        "categorical_features = ['genres1_top','language_top','is_free','on_game_sale','is_outlier','written_during_early_access']\n",
        "\n",
        "X_num = df[numeric_features]\n",
        "X_cat = df[categorical_features]\n",
        "X_text = df['review']\n",
        "y = df['helpful']\n",
        "\n",
        "# 샘플링 (대용량 대비)\n",
        "if len(df) > 50000:\n",
        "    idx = df.sample(50000, random_state=42).index\n",
        "    X_num, X_cat, X_text, y = X_num.loc[idx], X_cat.loc[idx], X_text.loc[idx], y.loc[idx]\n",
        "\n",
        "X_train_num, X_test_num, X_train_cat, X_test_cat, X_train_text, X_test_text, y_train, y_test = train_test_split(\n",
        "    X_num, X_cat, X_text, y, test_size=0.2, stratify=y, random_state=42\n",
        ")\n",
        "\n",
        "# ==================================================\n",
        "# 8️⃣ 전처리 파이프라인\n",
        "# ==================================================\n",
        "numeric_pipe = Pipeline([\n",
        "    ('imputer', SimpleImputer(strategy='median')),\n",
        "    ('scaler', StandardScaler())\n",
        "])\n",
        "\n",
        "cat_pipe = Pipeline([\n",
        "    ('imputer', SimpleImputer(strategy='constant', fill_value='Unknown')),\n",
        "    ('ohe', OneHotEncoder(handle_unknown='ignore', sparse_output=False))\n",
        "])\n",
        "\n",
        "text_pipe = TfidfVectorizer(max_features=5000, ngram_range=(1,2))\n",
        "\n",
        "preprocessor = ColumnTransformer([\n",
        "    ('num', numeric_pipe, numeric_features),\n",
        "    ('cat', cat_pipe, categorical_features),\n",
        "    ('text', text_pipe, 'review')  # ColumnTransformer가 문자열 컬럼 처리 가능\n",
        "])\n"
      ],
      "metadata": {
        "id": "xQjL3sBkirh4"
      },
      "execution_count": 39,
      "outputs": []
    },
    {
      "cell_type": "code",
      "source": [
        "# ==================================================\n",
        "# 9️⃣ RandomForest 모델 통합 파이프라인\n",
        "# ==================================================\n",
        "rf_pipeline = Pipeline([\n",
        "    ('preproc', preprocessor),\n",
        "    ('clf', RandomForestClassifier(n_estimators=120, random_state=42, n_jobs=-1))\n",
        "])\n",
        "\n",
        "features = numeric_features + categorical_features + ['review']\n",
        "valid_idx = df[features].dropna().index\n",
        "X = df.loc[valid_idx, features]\n",
        "y = df.loc[valid_idx, 'helpful']\n",
        "\n",
        "rf_pipeline.fit(X, y)\n",
        "\n",
        "# ==================================================\n",
        "# 10️⃣ 모델 평가\n",
        "# ==================================================\n",
        "y_prob = rf_pipeline.predict_proba(X)[:, 1]\n",
        "y_pred = rf_pipeline.predict(X)\n",
        "RocCurveDisplay.from_estimator(rf_pipeline, X, y)\n",
        "\n",
        "print(\"ROC AUC:\", roc_auc_score(y, y_prob))\n",
        "print(classification_report(y, y_pred))\n",
        "RocCurveDisplay.from_estimator(rf_pipeline, df[numeric_features + categorical_features + ['review']], y)\n"
      ],
      "metadata": {
        "id": "0gEw4dsgiuBv"
      },
      "execution_count": null,
      "outputs": []
    },
    {
      "cell_type": "code",
      "source": [
        "# ==================================================\n",
        "# 11️⃣ Feature importance (숫자+범주형)\n",
        "# ==================================================\n",
        "# TF-IDF는 별도 중요도 분석 필요 (SHAP 추천)\n",
        "ohe = rf_pipeline.named_steps['preproc'].transformers_[1][1].named_steps['ohe']\n",
        "ohe_names = list(ohe.get_feature_names_out(categorical_features))\n",
        "feature_names = numeric_features + ohe_names\n",
        "\n",
        "importances = rf_pipeline.named_steps['clf'].feature_importances_\n",
        "fi_df = pd.DataFrame({'feature': feature_names, 'importance': importances}).sort_values('importance', ascending=False)\n",
        "print(fi_df.head(20))\n"
      ],
      "metadata": {
        "id": "nCyJCocciwfS"
      },
      "execution_count": null,
      "outputs": []
    },
    {
      "cell_type": "code",
      "source": [
        "# ==================================================\n",
        "# 12️⃣ SHAP 분석 (텍스트 포함 영향도 확인)\n",
        "# ==================================================\n",
        "sample_idx = df.sample(1000, random_state=42).index\n",
        "X_sample = df.loc[sample_idx, numeric_features + categorical_features + ['review']]\n",
        "explainer = shap.TreeExplainer(rf_pipeline.named_steps['clf'])\n",
        "X_transformed = rf_pipeline.named_steps['preproc'].transform(X_sample)\n",
        "shap_vals = explainer.shap_values(X_transformed)\n",
        "shap.summary_plot(shap_vals, X_transformed)\n"
      ],
      "metadata": {
        "id": "f3B2Z7-aiypP"
      },
      "execution_count": null,
      "outputs": []
    },
    {
      "cell_type": "markdown",
      "source": [
        "\n",
        "\n",
        "---\n",
        "\n"
      ],
      "metadata": {
        "id": "kB-jZCW4lybO"
      }
    },
    {
      "cell_type": "markdown",
      "source": [
        "3차 분석\n",
        "\n",
        "- 위 코드가 무거워 슬림화...그런데 에러났음...."
      ],
      "metadata": {
        "id": "mJS4bUR-W7kC"
      }
    },
    {
      "cell_type": "code",
      "source": [
        "import pandas as pd\n",
        "import numpy as np\n",
        "from sklearn.model_selection import train_test_split\n",
        "from sklearn.feature_extraction.text import TfidfVectorizer\n",
        "from sklearn.preprocessing import StandardScaler, OneHotEncoder\n",
        "from sklearn.compose import ColumnTransformer\n",
        "from sklearn.pipeline import Pipeline\n",
        "from lightgbm import LGBMClassifier\n",
        "import shap\n",
        "import matplotlib.pyplot as plt\n",
        "\n",
        "# ===================== 데이터 준비 =====================\n",
        "# 타겟\n",
        "y = df['voted_up']\n",
        "\n",
        "# 피처\n",
        "numeric_features = ['playtime_hours', 'review_len_words', 'author_num_games_owned',\n",
        "                    'author_num_reviews', 'votes_up', 'votes_per_day']\n",
        "categorical_features = ['genres1_top', 'language_top', 'is_free', 'on_game_sale', 'on_valve_event']\n",
        "text_features = ['review']  # 실제 텍스트 컬럼\n",
        "\n",
        "# ===================== 전처리 파이프라인 =====================\n",
        "# 수치형\n",
        "numeric_transformer = StandardScaler()\n",
        "\n",
        "# 범주형\n",
        "categorical_transformer = OneHotEncoder(handle_unknown='ignore', sparse_output=True)\n",
        "\n",
        "# 텍스트\n",
        "text_transformer = TfidfVectorizer(max_features=5000, ngram_range=(1,2))\n",
        "\n",
        "# 컬럼별 변환기\n",
        "preprocessor = ColumnTransformer(\n",
        "    transformers=[\n",
        "        ('num', numeric_transformer, numeric_features),\n",
        "        ('cat', categorical_transformer, categorical_features),\n",
        "        ('txt', text_transformer, 'review')\n",
        "    ],\n",
        "    sparse_threshold=0.3  # sparse matrix 유지\n",
        ")\n",
        "\n",
        "# ===================== 모델 + 파이프라인 =====================\n",
        "pipeline = Pipeline([\n",
        "    ('preprocessor', preprocessor),\n",
        "    ('clf', LGBMClassifier(\n",
        "        n_estimators=500,\n",
        "        learning_rate=0.05,\n",
        "        num_leaves=31,\n",
        "        n_jobs=-1,\n",
        "        random_state=42\n",
        "    ))\n",
        "])\n",
        "\n",
        "# ===================== 학습/평가 =====================\n",
        "X_train, X_test, y_train, y_test = train_test_split(df, y, test_size=0.2, random_state=42, stratify=y)\n",
        "\n",
        "pipeline.fit(X_train, y_train)\n",
        "\n",
        "# 성능\n",
        "y_pred = pipeline.predict(X_test)\n",
        "y_proba = pipeline.predict_proba(X_test)[:,1]\n",
        "\n",
        "from sklearn.metrics import classification_report, roc_auc_score\n",
        "print(\"ROC AUC:\", roc_auc_score(y_test, y_proba))\n",
        "print(classification_report(y_test, y_pred))\n",
        "\n",
        "# ===================== SHAP 분석 =====================\n",
        "# LightGBM용 TreeExplainer\n",
        "explainer = shap.TreeExplainer(pipeline.named_steps['clf'])\n",
        "\n",
        "# ColumnTransformer 후 변환\n",
        "X_transformed = pipeline.named_steps['preprocessor'].transform(X_test)\n",
        "\n",
        "# shap_values 계산\n",
        "shap_vals = explainer.shap_values(X_transformed)\n",
        "\n",
        "# summary plot\n",
        "shap.summary_plot(shap_vals, X_transformed, show=True)\n"
      ],
      "metadata": {
        "colab": {
          "base_uri": "https://localhost:8080/",
          "height": 974
        },
        "id": "yotpH29Ely8L",
        "outputId": "77ae398f-6dd7-464d-fb01-1cd0489a9188"
      },
      "execution_count": 26,
      "outputs": [
        {
          "output_type": "stream",
          "name": "stdout",
          "text": [
            "[LightGBM] [Info] Number of positive: 132313, number of negative: 18305\n",
            "[LightGBM] [Info] Auto-choosing col-wise multi-threading, the overhead of testing was 13.560889 seconds.\n",
            "You can set `force_col_wise=true` to remove the overhead.\n",
            "[LightGBM] [Info] Total Bins 493502\n",
            "[LightGBM] [Info] Number of data points in the train set: 150618, number of used features: 4962\n",
            "[LightGBM] [Info] [binary:BoostFromScore]: pavg=0.878467 -> initscore=1.977996\n",
            "[LightGBM] [Info] Start training from score 1.977996\n"
          ]
        },
        {
          "output_type": "stream",
          "name": "stderr",
          "text": [
            "/usr/local/lib/python3.12/dist-packages/sklearn/utils/validation.py:2739: UserWarning: X does not have valid feature names, but LGBMClassifier was fitted with feature names\n",
            "  warnings.warn(\n",
            "/usr/local/lib/python3.12/dist-packages/sklearn/utils/validation.py:2739: UserWarning: X does not have valid feature names, but LGBMClassifier was fitted with feature names\n",
            "  warnings.warn(\n"
          ]
        },
        {
          "output_type": "stream",
          "name": "stdout",
          "text": [
            "ROC AUC: 0.8193508812713028\n",
            "              precision    recall  f1-score   support\n",
            "\n",
            "           0       0.78      0.21      0.33      4576\n",
            "           1       0.90      0.99      0.94     33079\n",
            "\n",
            "    accuracy                           0.90     37655\n",
            "   macro avg       0.84      0.60      0.64     37655\n",
            "weighted avg       0.89      0.90      0.87     37655\n",
            "\n"
          ]
        },
        {
          "output_type": "stream",
          "name": "stderr",
          "text": [
            "/usr/local/lib/python3.12/dist-packages/shap/explainers/_tree.py:583: UserWarning: LightGBM binary classifier with TreeExplainer shap values output has changed to a list of ndarray\n",
            "  warnings.warn(\n"
          ]
        },
        {
          "output_type": "error",
          "ename": "IndexError",
          "evalue": "Only 1D or 2D arrays allowed. Index makes 3D",
          "traceback": [
            "\u001b[0;31m---------------------------------------------------------------------------\u001b[0m",
            "\u001b[0;31mIndexError\u001b[0m                                Traceback (most recent call last)",
            "\u001b[0;32m/tmp/ipython-input-3075705330.py\u001b[0m in \u001b[0;36m<cell line: 0>\u001b[0;34m()\u001b[0m\n\u001b[1;32m     76\u001b[0m \u001b[0;34m\u001b[0m\u001b[0m\n\u001b[1;32m     77\u001b[0m \u001b[0;31m# summary plot\u001b[0m\u001b[0;34m\u001b[0m\u001b[0;34m\u001b[0m\u001b[0m\n\u001b[0;32m---> 78\u001b[0;31m \u001b[0mshap\u001b[0m\u001b[0;34m.\u001b[0m\u001b[0msummary_plot\u001b[0m\u001b[0;34m(\u001b[0m\u001b[0mshap_vals\u001b[0m\u001b[0;34m,\u001b[0m \u001b[0mX_transformed\u001b[0m\u001b[0;34m,\u001b[0m \u001b[0mshow\u001b[0m\u001b[0;34m=\u001b[0m\u001b[0;32mTrue\u001b[0m\u001b[0;34m)\u001b[0m\u001b[0;34m\u001b[0m\u001b[0;34m\u001b[0m\u001b[0m\n\u001b[0m",
            "\u001b[0;32m/usr/local/lib/python3.12/dist-packages/shap/plots/_beeswarm.py\u001b[0m in \u001b[0;36msummary_legacy\u001b[0;34m(shap_values, features, feature_names, max_display, plot_type, color, axis_color, title, alpha, show, sort, color_bar, plot_size, layered_violin_max_num_bins, class_names, class_inds, color_bar_label, cmap, show_values_in_legend, use_log_scale, rng)\u001b[0m\n\u001b[1;32m    787\u001b[0m         \u001b[0;32mfor\u001b[0m \u001b[0mpos\u001b[0m\u001b[0;34m,\u001b[0m \u001b[0mi\u001b[0m \u001b[0;32min\u001b[0m \u001b[0menumerate\u001b[0m\u001b[0;34m(\u001b[0m\u001b[0mfeature_order\u001b[0m\u001b[0;34m)\u001b[0m\u001b[0;34m:\u001b[0m\u001b[0;34m\u001b[0m\u001b[0;34m\u001b[0m\u001b[0m\n\u001b[1;32m    788\u001b[0m             \u001b[0mplt\u001b[0m\u001b[0;34m.\u001b[0m\u001b[0maxhline\u001b[0m\u001b[0;34m(\u001b[0m\u001b[0my\u001b[0m\u001b[0;34m=\u001b[0m\u001b[0mpos\u001b[0m\u001b[0;34m,\u001b[0m \u001b[0mcolor\u001b[0m\u001b[0;34m=\u001b[0m\u001b[0;34m\"#cccccc\"\u001b[0m\u001b[0;34m,\u001b[0m \u001b[0mlw\u001b[0m\u001b[0;34m=\u001b[0m\u001b[0;36m0.5\u001b[0m\u001b[0;34m,\u001b[0m \u001b[0mdashes\u001b[0m\u001b[0;34m=\u001b[0m\u001b[0;34m(\u001b[0m\u001b[0;36m1\u001b[0m\u001b[0;34m,\u001b[0m \u001b[0;36m5\u001b[0m\u001b[0;34m)\u001b[0m\u001b[0;34m,\u001b[0m \u001b[0mzorder\u001b[0m\u001b[0;34m=\u001b[0m\u001b[0;34m-\u001b[0m\u001b[0;36m1\u001b[0m\u001b[0;34m)\u001b[0m\u001b[0;34m\u001b[0m\u001b[0;34m\u001b[0m\u001b[0m\n\u001b[0;32m--> 789\u001b[0;31m             \u001b[0mshaps\u001b[0m \u001b[0;34m=\u001b[0m \u001b[0mshap_values\u001b[0m\u001b[0;34m[\u001b[0m\u001b[0;34m:\u001b[0m\u001b[0;34m,\u001b[0m \u001b[0mi\u001b[0m\u001b[0;34m]\u001b[0m\u001b[0;34m\u001b[0m\u001b[0;34m\u001b[0m\u001b[0m\n\u001b[0m\u001b[1;32m    790\u001b[0m             \u001b[0mvalues\u001b[0m \u001b[0;34m=\u001b[0m \u001b[0;32mNone\u001b[0m \u001b[0;32mif\u001b[0m \u001b[0mfeatures\u001b[0m \u001b[0;32mis\u001b[0m \u001b[0;32mNone\u001b[0m \u001b[0;32melse\u001b[0m \u001b[0mfeatures\u001b[0m\u001b[0;34m[\u001b[0m\u001b[0;34m:\u001b[0m\u001b[0;34m,\u001b[0m \u001b[0mi\u001b[0m\u001b[0;34m]\u001b[0m\u001b[0;34m\u001b[0m\u001b[0;34m\u001b[0m\u001b[0m\n\u001b[1;32m    791\u001b[0m             \u001b[0minds\u001b[0m \u001b[0;34m=\u001b[0m \u001b[0mnp\u001b[0m\u001b[0;34m.\u001b[0m\u001b[0marange\u001b[0m\u001b[0;34m(\u001b[0m\u001b[0mlen\u001b[0m\u001b[0;34m(\u001b[0m\u001b[0mshaps\u001b[0m\u001b[0;34m)\u001b[0m\u001b[0;34m)\u001b[0m\u001b[0;34m\u001b[0m\u001b[0;34m\u001b[0m\u001b[0m\n",
            "\u001b[0;32m/usr/local/lib/python3.12/dist-packages/scipy/sparse/_index.py\u001b[0m in \u001b[0;36m__getitem__\u001b[0;34m(self, key)\u001b[0m\n\u001b[1;32m     28\u001b[0m     \"\"\"\n\u001b[1;32m     29\u001b[0m     \u001b[0;32mdef\u001b[0m \u001b[0m__getitem__\u001b[0m\u001b[0;34m(\u001b[0m\u001b[0mself\u001b[0m\u001b[0;34m,\u001b[0m \u001b[0mkey\u001b[0m\u001b[0;34m)\u001b[0m\u001b[0;34m:\u001b[0m\u001b[0;34m\u001b[0m\u001b[0;34m\u001b[0m\u001b[0m\n\u001b[0;32m---> 30\u001b[0;31m         \u001b[0mindex\u001b[0m\u001b[0;34m,\u001b[0m \u001b[0mnew_shape\u001b[0m \u001b[0;34m=\u001b[0m \u001b[0mself\u001b[0m\u001b[0;34m.\u001b[0m\u001b[0m_validate_indices\u001b[0m\u001b[0;34m(\u001b[0m\u001b[0mkey\u001b[0m\u001b[0;34m)\u001b[0m\u001b[0;34m\u001b[0m\u001b[0;34m\u001b[0m\u001b[0m\n\u001b[0m\u001b[1;32m     31\u001b[0m \u001b[0;34m\u001b[0m\u001b[0m\n\u001b[1;32m     32\u001b[0m         \u001b[0;31m# 1D array\u001b[0m\u001b[0;34m\u001b[0m\u001b[0;34m\u001b[0m\u001b[0m\n",
            "\u001b[0;32m/usr/local/lib/python3.12/dist-packages/scipy/sparse/_index.py\u001b[0m in \u001b[0;36m_validate_indices\u001b[0;34m(self, key)\u001b[0m\n\u001b[1;32m    308\u001b[0m             \u001b[0midx_shape\u001b[0m \u001b[0;34m=\u001b[0m \u001b[0midx_shape\u001b[0m\u001b[0;34m[\u001b[0m\u001b[0;34m:\u001b[0m\u001b[0marr_index\u001b[0m\u001b[0;34m]\u001b[0m \u001b[0;34m+\u001b[0m \u001b[0marr_shape\u001b[0m \u001b[0;34m+\u001b[0m \u001b[0midx_shape\u001b[0m\u001b[0;34m[\u001b[0m\u001b[0marr_index\u001b[0m\u001b[0;34m:\u001b[0m\u001b[0;34m]\u001b[0m\u001b[0;34m\u001b[0m\u001b[0;34m\u001b[0m\u001b[0m\n\u001b[1;32m    309\u001b[0m         \u001b[0;32mif\u001b[0m \u001b[0;34m(\u001b[0m\u001b[0mndim\u001b[0m \u001b[0;34m:=\u001b[0m \u001b[0mlen\u001b[0m\u001b[0;34m(\u001b[0m\u001b[0midx_shape\u001b[0m\u001b[0;34m)\u001b[0m\u001b[0;34m)\u001b[0m \u001b[0;34m>\u001b[0m \u001b[0;36m2\u001b[0m\u001b[0;34m:\u001b[0m\u001b[0;34m\u001b[0m\u001b[0;34m\u001b[0m\u001b[0m\n\u001b[0;32m--> 310\u001b[0;31m             \u001b[0;32mraise\u001b[0m \u001b[0mIndexError\u001b[0m\u001b[0;34m(\u001b[0m\u001b[0;34mf'Only 1D or 2D arrays allowed. Index makes {ndim}D'\u001b[0m\u001b[0;34m)\u001b[0m\u001b[0;34m\u001b[0m\u001b[0;34m\u001b[0m\u001b[0m\n\u001b[0m\u001b[1;32m    311\u001b[0m         \u001b[0;32mreturn\u001b[0m \u001b[0mtuple\u001b[0m\u001b[0;34m(\u001b[0m\u001b[0mindex\u001b[0m\u001b[0;34m)\u001b[0m\u001b[0;34m,\u001b[0m \u001b[0mtuple\u001b[0m\u001b[0;34m(\u001b[0m\u001b[0midx_shape\u001b[0m\u001b[0;34m)\u001b[0m\u001b[0;34m\u001b[0m\u001b[0;34m\u001b[0m\u001b[0m\n\u001b[1;32m    312\u001b[0m \u001b[0;34m\u001b[0m\u001b[0m\n",
            "\u001b[0;31mIndexError\u001b[0m: Only 1D or 2D arrays allowed. Index makes 3D"
          ]
        },
        {
          "output_type": "display_data",
          "data": {
            "text/plain": [
              "<Figure size 800x190 with 1 Axes>"
            ],
            "image/png": "[encoded data removed]"
          },
          "metadata": {}
        }
      ]
    }
  ]
}