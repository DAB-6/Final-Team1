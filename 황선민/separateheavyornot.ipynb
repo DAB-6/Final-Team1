{
 "cells": [
  {
   "cell_type": "code",
   "execution_count": 2,
   "id": "131fdc8a",
   "metadata": {},
   "outputs": [],
   "source": [
    "# === 경로만 네 환경에 맞게 변경 ===\n",
    "CSV_PATH = r\"C:\\Users\\<네계정>\\Downloads\\mscd\\archive\\weighted_real_last.csv\"  # 스샷에 보인 폴더\n",
    "OUT_CSV  = r\"C:\\Users\\<네계정>\\Downloads\\mscd\\archive\\weighted_real_last_labeled.csv\"\n"
   ]
  },
  {
   "cell_type": "code",
   "execution_count": 7,
   "id": "4db6adde",
   "metadata": {},
   "outputs": [
    {
     "ename": "TypeError",
     "evalue": "read_csv() got an unexpected keyword argument 'CSV_PATH'",
     "output_type": "error",
     "traceback": [
      "\u001b[31m---------------------------------------------------------------------------\u001b[39m",
      "\u001b[31mTypeError\u001b[39m                                 Traceback (most recent call last)",
      "\u001b[36mCell\u001b[39m\u001b[36m \u001b[39m\u001b[32mIn[7]\u001b[39m\u001b[32m, line 7\u001b[39m\n\u001b[32m      3\u001b[39m \u001b[38;5;28;01mimport\u001b[39;00m\u001b[38;5;250m \u001b[39m\u001b[34;01mnumpy\u001b[39;00m\u001b[38;5;250m \u001b[39m\u001b[38;5;28;01mas\u001b[39;00m\u001b[38;5;250m \u001b[39m\u001b[34;01mnp\u001b[39;00m\n\u001b[32m      5\u001b[39m pd.set_option(\u001b[33m\"\u001b[39m\u001b[33mdisplay.max_colwidth\u001b[39m\u001b[33m\"\u001b[39m, \u001b[32m200\u001b[39m)\n\u001b[32m----> \u001b[39m\u001b[32m7\u001b[39m df = \u001b[43mpd\u001b[49m\u001b[43m.\u001b[49m\u001b[43mread_csv\u001b[49m\u001b[43m(\u001b[49m\u001b[43mCSV_PATH\u001b[49m\u001b[43m \u001b[49m\u001b[43m=\u001b[49m\u001b[43m \u001b[49m\u001b[33;43mr\u001b[39;49m\u001b[33;43m\"\u001b[39;49m\u001b[33;43mC:\u001b[39;49m\u001b[33;43m\\\u001b[39;49m\u001b[33;43mUsers\u001b[39;49m\u001b[33;43m\\\u001b[39;49m\u001b[33;43muser\u001b[39;49m\u001b[33;43m\\\u001b[39;49m\u001b[33;43mDownloads\u001b[39;49m\u001b[33;43m\\\u001b[39;49m\u001b[33;43mmscd\u001b[39;49m\u001b[33;43m\\\u001b[39;49m\u001b[33;43marchive\u001b[39;49m\u001b[33;43m\\\u001b[39;49m\u001b[33;43mweighted_real_last.csv\u001b[39;49m\u001b[33;43m\"\u001b[39;49m\u001b[43m,\u001b[49m\u001b[43m \u001b[49m\u001b[43mencoding\u001b[49m\u001b[43m=\u001b[49m\u001b[33;43m\"\u001b[39;49m\u001b[33;43mutf-8-sig\u001b[39;49m\u001b[33;43m\"\u001b[39;49m\u001b[43m,\u001b[49m\u001b[43m \u001b[49m\u001b[43mlow_memory\u001b[49m\u001b[43m=\u001b[49m\u001b[38;5;28;43;01mFalse\u001b[39;49;00m\u001b[43m)\u001b[49m\n\u001b[32m      8\u001b[39m \u001b[38;5;66;03m# 깨끗한 컬럼명\u001b[39;00m\n\u001b[32m      9\u001b[39m df.columns = (\n\u001b[32m     10\u001b[39m     df.columns.astype(\u001b[38;5;28mstr\u001b[39m)\n\u001b[32m     11\u001b[39m       .str.strip()\n\u001b[32m     12\u001b[39m       .str.replace(\u001b[33m'\u001b[39m\u001b[33m\"\u001b[39m\u001b[33m'\u001b[39m, \u001b[33m'\u001b[39m\u001b[33m'\u001b[39m, regex=\u001b[38;5;28;01mFalse\u001b[39;00m)\n\u001b[32m     13\u001b[39m       .str.replace(\u001b[33m\"\u001b[39m\u001b[33m﻿\u001b[39m\u001b[33m\"\u001b[39m, \u001b[33m\"\u001b[39m\u001b[33m\"\u001b[39m, regex=\u001b[38;5;28;01mFalse\u001b[39;00m)\n\u001b[32m     14\u001b[39m )\n",
      "\u001b[31mTypeError\u001b[39m: read_csv() got an unexpected keyword argument 'CSV_PATH'"
     ]
    }
   ],
   "source": [
    "import re\n",
    "import pandas as pd\n",
    "import numpy as np\n",
    "\n",
    "pd.set_option(\"display.max_colwidth\", 200)\n",
    "\n",
    "df = pd.read_csv(CSV_PATH = r\"C:\\Users\\user\\Downloads\\mscd\\archive\\weighted_real_last.csv\", encoding=\"utf-8-sig\", low_memory=False)\n",
    "# 깨끗한 컬럼명\n",
    "df.columns = (\n",
    "    df.columns.astype(str)\n",
    "      .str.strip()\n",
    "      .str.replace('\"', '', regex=False)\n",
    "      .str.replace(\"﻿\", \"\", regex=False)\n",
    ")\n",
    "\n",
    "# 리뷰 텍스트 컬럼명 추정 (없으면 예외)\n",
    "TEXT_COL = \"review\" if \"review\" in df.columns else \"text\"\n",
    "if TEXT_COL not in df.columns:\n",
    "    raise KeyError(f\"리뷰 텍스트 컬럼을 찾지 못했습니다. df.columns 확인 필요: {df.columns.tolist()[:60]}\")\n",
    "\n",
    "# 장르 top3 컬럼명\n",
    "GENRE_COLS = [c for c in [\"genres1\",\"genres2\",\"genres3\"] if c in df.columns]\n",
    "if not GENRE_COLS:\n",
    "    raise KeyError(\"genres1~3 컬럼이 없습니다. 장르 컬럼명을 확인하세요.\")\n",
    "\n",
    "# 안전용 결측 처리\n",
    "for c in GENRE_COLS:\n",
    "    df[c] = df[c].astype(str)\n",
    "df[TEXT_COL] = df[TEXT_COL].astype(str).fillna(\"\")\n"
   ]
  },
  {
   "cell_type": "code",
   "execution_count": null,
   "id": "d1d9a592",
   "metadata": {},
   "outputs": [],
   "source": []
  },
  {
   "cell_type": "code",
   "execution_count": null,
   "id": "1d9588c8",
   "metadata": {},
   "outputs": [],
   "source": []
  },
  {
   "cell_type": "code",
   "execution_count": null,
   "id": "7a6e654f",
   "metadata": {},
   "outputs": [],
   "source": []
  },
  {
   "cell_type": "code",
   "execution_count": null,
   "id": "16b9d5b9",
   "metadata": {},
   "outputs": [],
   "source": []
  },
  {
   "cell_type": "code",
   "execution_count": null,
   "id": "36abd2f6",
   "metadata": {},
   "outputs": [],
   "source": []
  },
  {
   "cell_type": "code",
   "execution_count": null,
   "id": "506d1c50",
   "metadata": {},
   "outputs": [],
   "source": []
  },
  {
   "cell_type": "code",
   "execution_count": null,
   "id": "02a4d869",
   "metadata": {},
   "outputs": [],
   "source": []
  },
  {
   "cell_type": "code",
   "execution_count": null,
   "id": "4b732600",
   "metadata": {},
   "outputs": [],
   "source": []
  },
  {
   "cell_type": "code",
   "execution_count": null,
   "id": "a29cee1f",
   "metadata": {},
   "outputs": [],
   "source": []
  },
  {
   "cell_type": "code",
   "execution_count": null,
   "id": "8642c415",
   "metadata": {},
   "outputs": [],
   "source": []
  }
 ],
 "metadata": {
  "kernelspec": {
   "display_name": ".venv (3.13.5)",
   "language": "python",
   "name": "python3"
  },
  "language_info": {
   "codemirror_mode": {
    "name": "ipython",
    "version": 3
   },
   "file_extension": ".py",
   "mimetype": "text/x-python",
   "name": "python",
   "nbconvert_exporter": "python",
   "pygments_lexer": "ipython3",
   "version": "3.13.5"
  }
 },
 "nbformat": 4,
 "nbformat_minor": 5
}
