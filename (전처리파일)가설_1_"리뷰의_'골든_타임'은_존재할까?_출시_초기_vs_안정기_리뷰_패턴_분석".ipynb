{
  "nbformat": 4,
  "nbformat_minor": 0,
  "metadata": {
    "colab": {
      "provenance": [],
      "authorship_tag": "ABX9TyNYdt7hqgV6ezo0YYChd+ey",
      "include_colab_link": true
    },
    "kernelspec": {
      "name": "python3",
      "display_name": "Python 3"
    },
    "language_info": {
      "name": "python"
    }
  },
  "cells": [
    {
      "cell_type": "markdown",
      "metadata": {
        "id": "view-in-github",
        "colab_type": "text"
      },
      "source": [
        "<a href=\"https://colab.research.google.com/github/Yunseokjin/Final-Team1/blob/main/(%EC%A0%84%EC%B2%98%EB%A6%AC%ED%8C%8C%EC%9D%BC)%EA%B0%80%EC%84%A4_1_%22%EB%A6%AC%EB%B7%B0%EC%9D%98_'%EA%B3%A8%EB%93%A0_%ED%83%80%EC%9E%84'%EC%9D%80_%EC%A1%B4%EC%9E%AC%ED%95%A0%EA%B9%8C%3F_%EC%B6%9C%EC%8B%9C_%EC%B4%88%EA%B8%B0_vs_%EC%95%88%EC%A0%95%EA%B8%B0_%EB%A6%AC%EB%B7%B0_%ED%8C%A8%ED%84%B4_%EB%B6%84%EC%84%9D%22.ipynb\" target=\"_parent\"><img src=\"https://colab.research.google.com/assets/colab-badge.svg\" alt=\"Open In Colab\"/></a>"
      ]
    },
    {
      "cell_type": "code",
      "source": [
        "#한글 글씨 폰트 설치\n",
        "%%capture\n",
        "!sudo apt-get install -y fonts-nanum\n",
        "!sudo fc-cache -fv\n",
        "!rm ~/.cache/matplotlib -rf\n",
        "\n",
        "import matplotlib.pyplot as plt\n",
        "import matplotlib.font_manager as fm\n",
        "fm.fontManager.addfont('/usr/share/fonts/truetype/nanum/NanumGothic.ttf')\n",
        "plt.rcParams['font.family'] = 'NanumGothic'\n",
        "\n",
        "# 표에서 ('-') 마이너스 표시\n",
        "plt.rcParams['axes.unicode_minus'] = False"
      ],
      "metadata": {
        "id": "UuTx0U01giLm"
      },
      "execution_count": null,
      "outputs": []
    },
    {
      "cell_type": "markdown",
      "source": [
        "# 가설 1: \"리뷰의 '골든 타임'은 존재할까? - 출시 초기 vs 안정기 리뷰 패턴 분석\""
      ],
      "metadata": {
        "id": "jSt0sjJ0UaFg"
      }
    },
    {
      "cell_type": "code",
      "source": [
        "df = pd.read_csv('/content/weighted_score_above_08_250924.csv')"
      ],
      "metadata": {
        "id": "dajuj_rfUpLL"
      },
      "execution_count": null,
      "outputs": []
    },
    {
      "cell_type": "code",
      "source": [
        "df.info()"
      ],
      "metadata": {
        "colab": {
          "base_uri": "https://localhost:8080/"
        },
        "id": "ilo-v0sIbeEP",
        "outputId": "c0b7e0a6-bbae-44b8-e094-bfb85b3448b8"
      },
      "execution_count": null,
      "outputs": [
        {
          "output_type": "stream",
          "name": "stdout",
          "text": [
            "<class 'pandas.core.frame.DataFrame'>\n",
            "RangeIndex: 188273 entries, 0 to 188272\n",
            "Data columns (total 41 columns):\n",
            " #   Column                          Non-Null Count   Dtype  \n",
            "---  ------                          --------------   -----  \n",
            " 0   ﻿\"﻿\"\"recommendationid\"\"\"        188273 non-null  int64  \n",
            " 1   appid                           188273 non-null  int64  \n",
            " 2   game                            188260 non-null  object \n",
            " 3   author_steamid                  188273 non-null  int64  \n",
            " 4   author_num_games_owned          188273 non-null  int64  \n",
            " 5   author_num_reviews              188273 non-null  int64  \n",
            " 6   author_playtime_forever         188273 non-null  int64  \n",
            " 7   author_playtime_last_two_weeks  188273 non-null  int64  \n",
            " 8   author_playtime_at_review       188273 non-null  int64  \n",
            " 9   author_last_played              188273 non-null  object \n",
            " 10  language                        188273 non-null  object \n",
            " 11  review                          130202 non-null  object \n",
            " 12  timestamp_created               188273 non-null  object \n",
            " 13  timestamp_updated               188273 non-null  object \n",
            " 14  voted_up                        188273 non-null  int64  \n",
            " 15  votes_up                        188273 non-null  int64  \n",
            " 16  votes_funny                     188273 non-null  int64  \n",
            " 17  weighted_vote_score             188273 non-null  float64\n",
            " 18  comment_count                   188273 non-null  int64  \n",
            " 19  steam_purchase                  188273 non-null  int64  \n",
            " 20  received_for_free               188273 non-null  int64  \n",
            " 21  written_during_early_access     188273 non-null  int64  \n",
            " 22  hidden_in_steam_china           188273 non-null  int64  \n",
            " 23  _nllb_src                       185543 non-null  object \n",
            " 24  translated_en                   187777 non-null  object \n",
            " 25  is_outlier                      188273 non-null  bool   \n",
            " 26  genres1                         181299 non-null  object \n",
            " 27  genres2                         144783 non-null  object \n",
            " 28  genres3                         90012 non-null   object \n",
            " 29  is_free                         119101 non-null  object \n",
            " 30  ts                              188273 non-null  object \n",
            " 31  on_game_sale                    188273 non-null  bool   \n",
            " 32  discount_max                    134707 non-null  float64\n",
            " 33  sale_start_utc                  134707 non-null  object \n",
            " 34  sale_end_utc                    134707 non-null  object \n",
            " 35  on_valve_event                  188273 non-null  bool   \n",
            " 36  event_start_utc                 188273 non-null  object \n",
            " 37  event_end_utc                   188273 non-null  object \n",
            " 38  sale_context                    188273 non-null  object \n",
            " 39  event_name                      188273 non-null  object \n",
            " 40  event_type                      188273 non-null  object \n",
            "dtypes: bool(3), float64(2), int64(16), object(20)\n",
            "memory usage: 55.1+ MB\n"
          ]
        }
      ]
    },
    {
      "cell_type": "markdown",
      "source": [
        "##  0.라이브러리 임포트"
      ],
      "metadata": {
        "id": "hauqiZawX2o1"
      }
    },
    {
      "cell_type": "code",
      "source": [
        "import pandas as pd\n",
        "import numpy as np\n",
        "import matplotlib.pyplot as plt\n",
        "import seaborn as sns\n",
        "from sklearn.feature_extraction.text import TfidfVectorizer\n",
        "from scipy.stats import chi2_contingency\n",
        "from sklearn.feature_extraction import text\n",
        "import warnings\n",
        "warnings.filterwarnings('ignore')"
      ],
      "metadata": {
        "id": "zazsfmO5X5No"
      },
      "execution_count": null,
      "outputs": []
    },
    {
      "cell_type": "code",
      "source": [
        "df = pd.read_csv('/content/weighted_score_above_08_250924.csv')"
      ],
      "metadata": {
        "id": "9RA0HIFhaSzd"
      },
      "execution_count": null,
      "outputs": []
    },
    {
      "cell_type": "markdown",
      "source": [
        "## 1.데이터준비 (그룹 나누기)"
      ],
      "metadata": {
        "id": "6CDPv6qXX8tL"
      }
    },
    {
      "cell_type": "markdown",
      "source": [
        "- 그룹 설명 (4가지 그룹)\n",
        "    - 각 그룹 별 초기리뷰와 안정기 이후의 리뷰를 나눈다.\n",
        "    - 게임 출시일 칼럼이 없으므로 첫 리뷰 날짜를 출시일('timestamp_created')로 정의한다. (게임은 'appid'칼럼 사용)\n",
        "\n",
        "|장르 유형\t|특징\t|대표 장르 (데이터셋 예시)\t|초기(Early) 기준\t|안정기(Stable) 기준|\n",
        "|--|--|--|--|--|\n",
        "|라이브 서비스\t|장기적이고 지속적인 플레이를 기대 (엔드 콘텐츠, 시즌제)|\tAction, Massively Multiplayer, Free to Play|\t60일 이내|\t365일 이후|\n",
        "|스토리/캠페인 중심\t|정해진 엔딩을 향해 달려가는 경험\t|Adventure, RPG\t|30일 이내\t|180일 이후|\n",
        "|전략/시뮬레이션/인디|\t반복 플레이나 짧은 경험이 핵심|\tStrategy, Simulation, Indie, Casual\t|30일 이내\t|90일 이후|\n",
        "|기타 (Default)\t|위 분류에 속하지 않는 나머지|\t나머지 모든 장르|\t30일 이내|\t180일 이후|"
      ],
      "metadata": {
        "id": "8wbfPix_bPRu"
      }
    },
    {
      "cell_type": "markdown",
      "source": [
        "### 1_1.기본 전처리 ('timestamp_created' 칼럼 datetime 형식으로 변환)\n",
        "- 'timestamp_created'를 datetime 형식으로 변환\n",
        "- 장르 컬럼 결측치를 빈 문자열('')로 채우기\n",
        "- 필수 컬럼('timestamp_created')에 결측치가 있는 행 제거"
      ],
      "metadata": {
        "id": "ZcXO3-hslMUP"
      }
    },
    {
      "cell_type": "code",
      "source": [
        "# 'timestamp_created'를 datetime 형식으로 변환\n",
        "df['timestamp_created'] = pd.to_datetime(df['timestamp_created'], errors='coerce')\n",
        "# 장르 컬럼 결측치를 빈 문자열('')로 채우기\n",
        "df[['genres1', 'genres2', 'genres3']] = df[['genres1', 'genres2', 'genres3']].fillna('')\n",
        "# 필수 컬럼에 결측치가 있는 행 제거\n",
        "df.dropna(subset=['timestamp_created'], inplace=True)"
      ],
      "metadata": {
        "id": "rn5JrkN5joV3"
      },
      "execution_count": null,
      "outputs": []
    },
    {
      "cell_type": "markdown",
      "source": [
        "### 1_2.그룹 나누기(출시일 계산, 장르키워드 정의)\n",
        "- '출시일', '출시일 후 경과일' 계산\n",
        "- 장르 키워드 정의\n",
        "- 장르별 분류"
      ],
      "metadata": {
        "id": "kfmQvUuKl77r"
      }
    },
    {
      "cell_type": "code",
      "source": [
        "# 출시일 계산 및 시점 분류\n",
        "# 각 게임(appid)의 첫 리뷰 날짜를 '사실상 출시일'로 정의\n",
        "df['release_date'] = df.groupby('appid')['timestamp_created'].transform('min')\n",
        "# '출시 후 경과일' 계산\n",
        "df['days_since_release'] = (df['timestamp_created'] - df['release_date']).dt.days"
      ],
      "metadata": {
        "id": "taAblzyQmgCO"
      },
      "execution_count": null,
      "outputs": []
    },
    {
      "cell_type": "code",
      "source": [
        "# 장르 키워드 정의\n",
        "live_service_keywords = {'Action', 'Massively Multiplayer', 'Free to Play'}\n",
        "story_keywords = {'Adventure', 'RPG'}\n",
        "strategy_indie_keywords = {'Strategy', 'Simulation', 'Indie', 'Casual'}"
      ],
      "metadata": {
        "id": "sz1hFK2ymiO-"
      },
      "execution_count": null,
      "outputs": []
    },
    {
      "cell_type": "code",
      "source": [
        "def classify_phase_by_all_genres(row):\n",
        "    \"\"\"3개 장르를 모두 확인하여 리뷰 시점을 분류하는 함수\"\"\"\n",
        "    days = row['days_since_release']\n",
        "    game_genres = {str(row['genres1']), str(row['genres2']), str(row['genres3'])}\n",
        "\n",
        "    if not live_service_keywords.isdisjoint(game_genres):\n",
        "        if days <= 60: return 'Early'\n",
        "        elif days >= 365: return 'Stable'\n",
        "        else: return 'Mid-term'\n",
        "    elif not story_keywords.isdisjoint(game_genres):\n",
        "        if days <= 30: return 'Early'\n",
        "        elif days >= 180: return 'Stable'\n",
        "        else: return 'Mid-term'\n",
        "    elif not strategy_indie_keywords.isdisjoint(game_genres):\n",
        "        if days <= 30: return 'Early'\n",
        "        elif days >= 90: return 'Stable'\n",
        "        else: return 'Mid-term'\n",
        "    else:\n",
        "        if days <= 30: return 'Early'\n",
        "        elif days >= 180: return 'Stable'\n",
        "        else: return 'Mid-term'"
      ],
      "metadata": {
        "id": "lT1Y0GJFmqT5"
      },
      "execution_count": null,
      "outputs": []
    },
    {
      "cell_type": "code",
      "source": [
        "# 'review_phase' 컬럼 생성\n",
        "df['review_phase'] = df.apply(classify_phase_by_all_genres, axis=1)\n",
        "\n",
        "# 분석용 데이터프레임(df_analysis) 생성\n",
        "df_analysis = df[df['review_phase'].isin(['Early', 'Stable'])].copy()"
      ],
      "metadata": {
        "id": "-x_zJJa9muGd"
      },
      "execution_count": null,
      "outputs": []
    },
    {
      "cell_type": "code",
      "source": [
        "def get_genre_group(row):\n",
        "    \"\"\"시각화 및 그룹 분석을 위한 장르 그룹핑 함수\"\"\"\n",
        "    game_genres = {str(row['genres1']), str(row['genres2']), str(row['genres3'])}\n",
        "    if not live_service_keywords.isdisjoint(game_genres): return 'Live Service'\n",
        "    elif not story_keywords.isdisjoint(game_genres): return 'Story-driven'\n",
        "    elif not strategy_indie_keywords.isdisjoint(game_genres): return 'Strategy/Indie'\n",
        "    else: return 'Others'\n",
        "\n",
        "df_analysis['genre_group'] = df_analysis.apply(get_genre_group, axis=1)\n",
        "\n",
        "print(\"데이터 분할 및 그룹핑 완료!\")\n",
        "print(df_analysis['genre_group'].value_counts())\n",
        "print(\"-\" * 50)"
      ],
      "metadata": {
        "colab": {
          "base_uri": "https://localhost:8080/"
        },
        "id": "wwLmZwVkm1gz",
        "outputId": "375847bd-c19f-4545-d456-67949adaabd3"
      },
      "execution_count": null,
      "outputs": [
        {
          "output_type": "stream",
          "name": "stdout",
          "text": [
            "데이터 분할 및 그룹핑 완료!\n",
            "genre_group\n",
            "Live Service      84799\n",
            "Story-driven      36358\n",
            "Strategy/Indie    31385\n",
            "Others             8735\n",
            "Name: count, dtype: int64\n",
            "--------------------------------------------------\n"
          ]
        }
      ]
    },
    {
      "cell_type": "markdown",
      "source": [
        "##2.카이제곱검정 + 크래머's V (영향력 평가)"
      ],
      "metadata": {
        "id": "M52btFnbnIly"
      }
    },
    {
      "cell_type": "code",
      "source": [
        "def cramers_v(contingency_table):\n",
        "    \"\"\"크라메르 V 계수를 계산하는 함수\"\"\"\n",
        "    chi2 = chi2_contingency(contingency_table)[0]\n",
        "    n = contingency_table.sum().sum()\n",
        "    if n == 0: return 0\n",
        "    phi2 = chi2 / n\n",
        "    r, k = contingency_table.shape\n",
        "    phi2_corr = max(0, phi2 - ((k-1)*(r-1))/(n-1))\n",
        "    r_corr = r - ((r-1)**2)/(n-1)\n",
        "    k_corr = k - ((k-1)**2)/(n-1)\n",
        "    if min((k_corr-1), (r_corr-1)) == 0: return 0\n",
        "    return np.sqrt(phi2_corr / min((k_corr-1), (r_corr-1)))\n",
        "\n",
        "# 'review_phase'와 영향력 지표 간의 연관성 분석 (전체 데이터 대상)\n",
        "print(\"\\n[전체 데이터 대상: 리뷰 시점과 영향력 지표 간 연관성 분석]\")\n",
        "for metric in ['votes_up', 'votes_funny', 'comment_count']:\n",
        "    df_analysis[f'{metric}_group'] = np.where(df_analysis[metric] > 0, 'Reaction', 'No Reaction')\n",
        "    contingency_table = pd.crosstab(df_analysis['review_phase'], df_analysis[f'{metric}_group'])\n",
        "\n",
        "    chi2, p_value, _, _ = chi2_contingency(contingency_table)\n",
        "    v = cramers_v(contingency_table.values)\n",
        "\n",
        "    print(f\"\\n- '{metric}' 분석 결과:\")\n",
        "    print(f\"  - p-value: {p_value:.4f}, 크라메르 V: {v:.4f}\")\n",
        "    if p_value < 0.05: print(\"  -> 결론: 통계적으로 '유의미한 연관성'이 있습니다.\")\n",
        "    else: print(\"  -> 결론: 통계적으로 유의미한 연관성이 없습니다.\")"
      ],
      "metadata": {
        "colab": {
          "base_uri": "https://localhost:8080/"
        },
        "id": "TPYrvrAonad3",
        "outputId": "2c0f19d7-4333-4ba1-9ac0-578664969642"
      },
      "execution_count": null,
      "outputs": [
        {
          "output_type": "stream",
          "name": "stdout",
          "text": [
            "\n",
            "[전체 데이터 대상: 리뷰 시점과 영향력 지표 간 연관성 분석]\n",
            "\n",
            "- 'votes_up' 분석 결과:\n",
            "  - p-value: 0.3773, 크라메르 V: 0.0000\n",
            "  -> 결론: 통계적으로 유의미한 연관성이 없습니다.\n",
            "\n",
            "- 'votes_funny' 분석 결과:\n",
            "  - p-value: 0.0000, 크라메르 V: 0.0418\n",
            "  -> 결론: 통계적으로 '유의미한 연관성'이 있습니다.\n",
            "\n",
            "- 'comment_count' 분석 결과:\n",
            "  - p-value: 0.0000, 크라메르 V: 0.0917\n",
            "  -> 결론: 통계적으로 '유의미한 연관성'이 있습니다.\n"
          ]
        }
      ]
    },
    {
      "cell_type": "code",
      "source": [
        "# 장르별 영향력 시각화 (Violin Plot)\n",
        "print(\"\\n장르별 영향력 분포 시각화를 생성합니다...\")\n",
        "for metric in ['votes_up', 'votes_funny', 'comment_count']:\n",
        "    g = sns.catplot(data=df_analysis, x='review_phase', y=metric, col='genre_group',\n",
        "                    kind='violin', col_wrap=4, sharey=True, order=['Early', 'Stable'], cut=0)\n",
        "    g.fig.suptitle(f'장르별 {metric} 분포 비교', y=1.03, fontsize=16)\n",
        "    g.set_axis_labels(\"\", f\"{metric} (log scale)\")\n",
        "    g.set_titles(\"장르: {col_name}\")\n",
        "    g.set(yscale='log')\n",
        "    plt.tight_layout(rect=[0, 0, 1, 0.97])\n",
        "    plt.show()\n",
        "print(\"-\" * 50)"
      ],
      "metadata": {
        "colab": {
          "base_uri": "https://localhost:8080/",
          "height": 1000
        },
        "id": "3kXviEcgnfrm",
        "outputId": "36b9b5bc-56e0-47e7-f5b5-fc2a9c257c45"
      },
      "execution_count": null,
      "outputs": [
        {
          "output_type": "stream",
          "name": "stdout",
          "text": [
            "\n",
            "장르별 영향력 분포 시각화를 생성합니다...\n"
          ]
        },
        {
          "output_type": "display_data",
          "data": {
            "text/plain": [
              "<Figure size 2011.11x500 with 4 Axes>"
            ],
            "image/png": "[encoded data removed]"
          },
          "metadata": {}
        },
        {
          "output_type": "display_data",
          "data": {
            "text/plain": [
              "<Figure size 2011.11x500 with 4 Axes>"
            ],
            "image/png": "[encoded data removed]"
          },
          "metadata": {}
        },
        {
          "output_type": "display_data",
          "data": {
            "text/plain": [
              "<Figure size 2011.11x500 with 4 Axes>"
            ],
            "image/png": "[encoded data removed]"
          },
          "metadata": {}
        },
        {
          "output_type": "stream",
          "name": "stdout",
          "text": [
            "--------------------------------------------------\n"
          ]
        }
      ]
    },
    {
      "cell_type": "markdown",
      "source": [
        "## 3.장르별 키워드 추출"
      ],
      "metadata": {
        "id": "lGTVtoK2noyx"
      }
    },
    {
      "cell_type": "code",
      "source": [
        "# --- 5-1. KoNLPy 설치 (Colab 환경에서 필요) ---\n",
        "try:\n",
        "    import konlpy\n",
        "except ImportError:\n",
        "    !pip install konlpy\n",
        "from konlpy.tag import Okt\n",
        "from collections import Counter"
      ],
      "metadata": {
        "id": "onbaTx3RuWRp"
      },
      "execution_count": null,
      "outputs": []
    },
    {
      "cell_type": "code",
      "source": [
        "df_english = df_analysis[df_analysis['language'] != 'koreana'].copy()\n",
        "df_korean = df_analysis[df_analysis['language'] == 'koreana'].copy()\n",
        "print(f\"분석 대상: 영어 리뷰 {len(df_english)}개, 한국어 리뷰 {len(df_korean)}개\")"
      ],
      "metadata": {
        "colab": {
          "base_uri": "https://localhost:8080/"
        },
        "id": "kIMPcLO0ufJx",
        "outputId": "702428b3-2e72-4700-a1f1-1802000b1ef8"
      },
      "execution_count": null,
      "outputs": [
        {
          "output_type": "stream",
          "name": "stdout",
          "text": [
            "분석 대상: 영어 리뷰 158965개, 한국어 리뷰 2312개\n"
          ]
        }
      ]
    },
    {
      "cell_type": "markdown",
      "source": [
        "### 3_1.한국어 아닌 리뷰 키워드"
      ],
      "metadata": {
        "id": "tbK6mzMl7MoF"
      }
    },
    {
      "cell_type": "code",
      "source": [
        "# 키워드 분석 함수\n",
        "def extract_top_keywords(text_series, stopwords, n_top=15):\n",
        "    \"\"\"TF-IDF와 커스텀 불용어를 사용해 핵심 키워드를 추출하는 함수\"\"\"\n",
        "    if text_series.empty or text_series.str.strip().eq('').all():\n",
        "        print(\"  -> 리뷰 텍스트가 없어 키워드 추출을 건너뜁니다.\")\n",
        "        return\n",
        "\n",
        "    tfidf_vec = TfidfVectorizer(stop_words=stopwords, max_df=0.85, min_df=5, max_features=1000)\n",
        "\n",
        "    try:\n",
        "        tfidf_matrix = tfidf_vec.fit_transform(text_series)\n",
        "        feature_names = np.array(tfidf_vec.get_feature_names_out())\n",
        "        avg_tfidf_scores = np.asarray(tfidf_matrix.mean(axis=0)).ravel()\n",
        "        top_indices = avg_tfidf_scores.argsort()[::-1][:n_top]\n",
        "\n",
        "        print(f\"  (상위 {n_top}개 키워드)\")\n",
        "        for word, score in zip(feature_names[top_indices], avg_tfidf_scores[top_indices]):\n",
        "            print(f\"  - {word}: {score:.4f}\")\n",
        "\n",
        "    except ValueError as e:\n",
        "        print(f\"  -> TF-IDF 분석 중 오류 발생 (데이터 부족 가능성): {e}\")"
      ],
      "metadata": {
        "id": "qCgvj2-1uzTk"
      },
      "execution_count": null,
      "outputs": []
    },
    {
      "cell_type": "code",
      "source": [
        "# 영어 리뷰 분석\n",
        "# [최종 정제용 불용어 리스트]\n",
        "custom_stopwords_en = list(text.ENGLISH_STOP_WORDS) + [\n",
        "    'game', 'games', 'play', 'playing', 'player', 'players', 'just', 'like', 'don', 've',\n",
        "    'good', 'time', 'fun', 'really', 'people', 'want', 'need', 'got', 'going', 'buy',\n",
        "    'bought', 'make', 'know', 'think', 'great', 'better', 'best', 'lot', 'little',\n",
        "    'll', 'hours', 'new', 'day', 'life', 'steam', 'money', 'love', 'say', 'bad',\n",
        "    'years', 'old', 'way', 'man', 'bit', 'real', 'didn', 'able', 'use', 'work', 'world'\n",
        "]\n",
        "\n",
        "print(\"\\n\\n=============== 영어(English) 리뷰 분석 ================\")\n",
        "for genre in sorted(df_english['genre_group'].unique()):\n",
        "    print(f\"\\n\\n{'='*15} 분석 장르 그룹: {genre} {'='*15}\")\n",
        "    genre_df = df_english[df_english['genre_group'] == genre]\n",
        "\n",
        "    early_reviews = genre_df[genre_df['review_phase'] == 'Early']['translated_en'].dropna()\n",
        "    stable_reviews = genre_df[genre_df['review_phase'] == 'Stable']['translated_en'].dropna()\n",
        "\n",
        "    print(\"\\n[초기(Early) 리뷰 핵심 키워드]\")\n",
        "    extract_top_keywords(early_reviews, stopwords=custom_stopwords_en) # 이전에 정의한 TF-IDF 함수\n",
        "\n",
        "    print(\"\\n[안정기(Stable) 리뷰 핵심 키워드]\")\n",
        "    extract_top_keywords(stable_reviews, stopwords=custom_stopwords_en)"
      ],
      "metadata": {
        "colab": {
          "base_uri": "https://localhost:8080/"
        },
        "id": "3nslxJeturEP",
        "outputId": "1738440a-554f-41e9-f848-f469126b6178"
      },
      "execution_count": null,
      "outputs": [
        {
          "output_type": "stream",
          "name": "stdout",
          "text": [
            "\n",
            "\n",
            "=============== 영어(English) 리뷰 분석 ================\n",
            "\n",
            "\n",
            "=============== 분석 장르 그룹: Live Service ===============\n",
            "\n",
            "[초기(Early) 리뷰 핵심 키워드]\n",
            "  (상위 15개 키워드)\n",
            "  - chinese: 0.0174\n",
            "  - gameplay: 0.0151\n",
            "  - played: 0.0143\n",
            "  - story: 0.0098\n",
            "  - friends: 0.0094\n",
            "  - version: 0.0091\n",
            "  - free: 0.0090\n",
            "  - original: 0.0089\n",
            "  - review: 0.0084\n",
            "  - big: 0.0082\n",
            "  - price: 0.0081\n",
            "  - year: 0.0081\n",
            "  - sure: 0.0081\n",
            "  - add: 0.0079\n",
            "  - pc: 0.0077\n",
            "\n",
            "[안정기(Stable) 리뷰 핵심 키워드]\n",
            "  (상위 15개 키워드)\n",
            "  - chinese: 0.0181\n",
            "  - played: 0.0141\n",
            "  - friends: 0.0137\n",
            "  - bullying: 0.0113\n",
            "  - friend: 0.0093\n",
            "  - story: 0.0085\n",
            "  - free: 0.0082\n",
            "  - kill: 0.0077\n",
            "  - gameplay: 0.0077\n",
            "  - big: 0.0075\n",
            "  - sure: 0.0070\n",
            "  - price: 0.0068\n",
            "  - long: 0.0066\n",
            "  - come: 0.0066\n",
            "  - dead: 0.0065\n",
            "\n",
            "\n",
            "=============== 분석 장르 그룹: Others ===============\n",
            "\n",
            "[초기(Early) 리뷰 핵심 키워드]\n",
            "  (상위 15개 키워드)\n",
            "  - chinese: 0.0150\n",
            "  - version: 0.0129\n",
            "  - played: 0.0120\n",
            "  - free: 0.0112\n",
            "  - gameplay: 0.0108\n",
            "  - review: 0.0102\n",
            "  - price: 0.0094\n",
            "  - story: 0.0087\n",
            "  - bullying: 0.0087\n",
            "  - open: 0.0086\n",
            "  - recommend: 0.0083\n",
            "  - worth: 0.0083\n",
            "  - software: 0.0077\n",
            "  - big: 0.0075\n",
            "  - sure: 0.0075\n",
            "\n",
            "[안정기(Stable) 리뷰 핵심 키워드]\n",
            "  (상위 15개 키워드)\n",
            "  - chinese: 0.0213\n",
            "  - friends: 0.0145\n",
            "  - played: 0.0125\n",
            "  - sex: 0.0094\n",
            "  - software: 0.0091\n",
            "  - free: 0.0084\n",
            "  - version: 0.0080\n",
            "  - friend: 0.0077\n",
            "  - big: 0.0073\n",
            "  - touch: 0.0071\n",
            "  - sure: 0.0068\n",
            "  - cat: 0.0068\n",
            "  - recommend: 0.0066\n",
            "  - review: 0.0066\n",
            "  - year: 0.0065\n",
            "\n",
            "\n",
            "=============== 분석 장르 그룹: Story-driven ===============\n",
            "\n",
            "[초기(Early) 리뷰 핵심 키워드]\n",
            "  (상위 15개 키워드)\n",
            "  - chinese: 0.0218\n",
            "  - story: 0.0189\n",
            "  - gameplay: 0.0153\n",
            "  - played: 0.0146\n",
            "  - characters: 0.0110\n",
            "  - version: 0.0105\n",
            "  - original: 0.0101\n",
            "  - sure: 0.0093\n",
            "  - main: 0.0092\n",
            "  - character: 0.0091\n",
            "  - long: 0.0085\n",
            "  - end: 0.0085\n",
            "  - big: 0.0084\n",
            "  - feel: 0.0083\n",
            "  - thing: 0.0081\n",
            "\n",
            "[안정기(Stable) 리뷰 핵심 키워드]\n",
            "  (상위 15개 키워드)\n",
            "  - chinese: 0.0191\n",
            "  - played: 0.0139\n",
            "  - friends: 0.0131\n",
            "  - story: 0.0129\n",
            "  - friend: 0.0086\n",
            "  - long: 0.0080\n",
            "  - feel: 0.0077\n",
            "  - sure: 0.0075\n",
            "  - version: 0.0075\n",
            "  - end: 0.0074\n",
            "  - gameplay: 0.0071\n",
            "  - big: 0.0071\n",
            "  - year: 0.0070\n",
            "  - dlc: 0.0070\n",
            "  - free: 0.0069\n",
            "\n",
            "\n",
            "=============== 분석 장르 그룹: Strategy/Indie ===============\n",
            "\n",
            "[초기(Early) 리뷰 핵심 키워드]\n",
            "  (상위 15개 키워드)\n",
            "  - chinese: 0.0197\n",
            "  - played: 0.0139\n",
            "  - gameplay: 0.0122\n",
            "  - version: 0.0100\n",
            "  - free: 0.0093\n",
            "  - year: 0.0092\n",
            "  - right: 0.0082\n",
            "  - add: 0.0080\n",
            "  - thing: 0.0078\n",
            "  - feel: 0.0077\n",
            "  - story: 0.0077\n",
            "  - simple: 0.0075\n",
            "  - friends: 0.0074\n",
            "  - big: 0.0073\n",
            "  - recommend: 0.0072\n",
            "\n",
            "[안정기(Stable) 리뷰 핵심 키워드]\n",
            "  (상위 15개 키워드)\n",
            "  - chinese: 0.0203\n",
            "  - friends: 0.0140\n",
            "  - played: 0.0129\n",
            "  - free: 0.0082\n",
            "  - car: 0.0081\n",
            "  - dlc: 0.0076\n",
            "  - bullying: 0.0073\n",
            "  - friend: 0.0072\n",
            "  - long: 0.0072\n",
            "  - recommend: 0.0071\n",
            "  - big: 0.0071\n",
            "  - sex: 0.0069\n",
            "  - sure: 0.0067\n",
            "  - simulator: 0.0065\n",
            "  - add: 0.0065\n"
          ]
        }
      ]
    },
    {
      "cell_type": "markdown",
      "source": [
        "### 3_2.한국어 리뷰 키워드"
      ],
      "metadata": {
        "id": "Mq6kQApv7TqC"
      }
    },
    {
      "cell_type": "code",
      "source": [
        "korean_text_column = 'translated_en' # 또는 'review'\n",
        "\n",
        "# 한국어 불용어 정의 (프로젝트에 맞게 추가/수정)\n",
        "# [최종 정제용 한국어 불용어 리스트]\n",
        "custom_stopwords_ko = [\n",
        "    # 1차 불용어\n",
        "    '게임', '이', '가', '은', '는', '에', '에서', '을', '를', '의', '과', '와', '도', '으로', '로',\n",
        "    '하다하다', '이다', '있다', '없다', '것', '수', '더', '그', '그냥', '좀', '플레이', '유저',\n",
        "    '정말', '진짜', '너무', '많다', '좋다', '사람', '시간', '생각', '부분', '하나', '때문',\n",
        "\n",
        "    # ★★★ 2차(최종) 추가할 단어들 ★★★\n",
        "    # 욕설 및 비속어\n",
        "    '새끼', '존나', '시발', '씨발', '병신',\n",
        "\n",
        "    # 특정 게임/커뮤니티 은어 (일반화하기 어려운 단어)\n",
        "    '제나', '방패', '긁힌거', '라떼', '타의', '비키',\n",
        "\n",
        "    # 해석이 모호하거나 너무 일반적인 명사\n",
        "    '정도', '경우', '지금', '우리', '당신', '모든', '다른', '옛날', '사실', '조금', '이제',\n",
        "    '해도', '보고', '계속'\n",
        "]\n",
        "\n",
        "def extract_top_keywords_ko(text_series, n_top=15):\n",
        "    \"\"\"KoNLPy(Okt)를 사용해 한국어 명사 키워드를 추출하는 함수\"\"\"\n",
        "    if text_series.empty or text_series.str.strip().eq('').all():\n",
        "        print(\"  -> 리뷰 텍스트가 없어 키워드 추출을 건너뜁니다.\")\n",
        "        return\n",
        "\n",
        "    okt = Okt()\n",
        "    all_nouns = []\n",
        "    for review in text_series:\n",
        "        nouns = okt.nouns(review) # 명사만 추출\n",
        "        # 한 글자 단어 및 불용어 제거\n",
        "        all_nouns.extend([noun for noun in nouns if len(noun) > 1 and noun not in custom_stopwords_ko])\n",
        "\n",
        "    if not all_nouns:\n",
        "        print(\"  -> 유효한 키워드가 없어 분석을 건너뜁니다.\")\n",
        "        return\n",
        "\n",
        "    counts = Counter(all_nouns)\n",
        "    print(f\"  (상위 {n_top}개 키워드)\")\n",
        "    for word, count in counts.most_common(n_top):\n",
        "        print(f\"  - {word}: {count}회\")\n",
        "\n",
        "print(\"\\n\\n\\n=============== 한국어(Korean) 리뷰 분석 ================\")\n",
        "for genre in sorted(df_korean['genre_group'].unique()):\n",
        "    print(f\"\\n\\n{'='*15} 분석 장르 그룹: {genre} {'='*15}\")\n",
        "    genre_df = df_korean[df_korean['genre_group'] == genre]\n",
        "\n",
        "    early_reviews_ko = genre_df[genre_df['review_phase'] == 'Early'][korean_text_column].dropna()\n",
        "    stable_reviews_ko = genre_df[genre_df['review_phase'] == 'Stable'][korean_text_column].dropna()\n",
        "\n",
        "    print(\"\\n[초기(Early) 리뷰 핵심 키워드]\")\n",
        "    extract_top_keywords_ko(early_reviews_ko)\n",
        "\n",
        "    print(\"\\n[안정기(Stable) 리뷰 핵심 키워드]\")\n",
        "    extract_top_keywords_ko(stable_reviews_ko)"
      ],
      "metadata": {
        "colab": {
          "base_uri": "https://localhost:8080/"
        },
        "id": "zc8BnMTBvDAw",
        "outputId": "cd5d1a39-ccb2-42ec-fa24-d51c661de2fc"
      },
      "execution_count": null,
      "outputs": [
        {
          "output_type": "stream",
          "name": "stdout",
          "text": [
            "\n",
            "\n",
            "\n",
            "=============== 한국어(Korean) 리뷰 분석 ================\n",
            "\n",
            "\n",
            "=============== 분석 장르 그룹: Live Service ===============\n",
            "\n",
            "[초기(Early) 리뷰 핵심 키워드]\n",
            "  (상위 15개 키워드)\n",
            "  - 멀티: 864회\n",
            "  - 후속: 91회\n",
            "  - 구매: 71회\n",
            "  - 스팀: 62회\n",
            "  - 도전: 54회\n",
            "  - 과제: 54회\n",
            "  - 패치: 47회\n",
            "  - 추천: 45회\n",
            "  - 개발: 42회\n",
            "  - 스토리: 41회\n",
            "  - 가격: 38회\n",
            "  - 그래픽: 37회\n",
            "  - 느낌: 37회\n",
            "  - 시작: 35회\n",
            "  - 캐릭터: 34회\n",
            "\n",
            "[안정기(Stable) 리뷰 핵심 키워드]\n",
            "  (상위 15개 키워드)\n",
            "  - 정신: 63회\n",
            "  - 친구: 45회\n",
            "  - 나무: 30회\n",
            "  - 시작: 27회\n",
            "  - 다시: 26회\n",
            "  - 인생: 23회\n",
            "  - 재미: 22회\n",
            "  - 추천: 20회\n",
            "  - 도전: 19회\n",
            "  - 과제: 19회\n",
            "  - 한글패치: 18회\n",
            "  - 서버: 18회\n",
            "  - 무료: 18회\n",
            "  - 멀티: 18회\n",
            "  - 혼자: 17회\n",
            "\n",
            "\n",
            "=============== 분석 장르 그룹: Others ===============\n",
            "\n",
            "[초기(Early) 리뷰 핵심 키워드]\n",
            "  (상위 15개 키워드)\n",
            "  - 과제: 30회\n",
            "  - 도전: 28회\n",
            "  - 시리즈: 11회\n",
            "  - 스팀: 8회\n",
            "  - 탐색: 8회\n",
            "  - 클릭: 5회\n",
            "  - 개발: 5회\n",
            "  - 공식: 4회\n",
            "  - 파일: 4회\n",
            "  - 시작: 4회\n",
            "  - 업적: 4회\n",
            "  - 폴더: 4회\n",
            "  - 여기: 4회\n",
            "  - 레벨: 4회\n",
            "  - 블럭: 4회\n",
            "\n",
            "[안정기(Stable) 리뷰 핵심 키워드]\n",
            "  (상위 15개 키워드)\n",
            "  - 멀티: 530회\n",
            "  - 바보: 4회\n",
            "  - 무료: 3회\n",
            "  - 타임: 3회\n",
            "  - 상자: 3회\n",
            "  - 한글패치: 2회\n",
            "  - 퀘스트: 2회\n",
            "  - 스팀: 2회\n",
            "  - 피드백: 2회\n",
            "  - 그래픽: 2회\n",
            "  - 자막: 2회\n",
            "  - 일단: 2회\n",
            "  - 시작: 2회\n",
            "  - 의심: 2회\n",
            "  - 던전: 2회\n",
            "\n",
            "\n",
            "=============== 분석 장르 그룹: Story-driven ===============\n",
            "\n",
            "[초기(Early) 리뷰 핵심 키워드]\n",
            "  (상위 15개 키워드)\n",
            "  - 도전: 45회\n",
            "  - 과제: 45회\n",
            "  - 스토리: 42회\n",
            "  - 진행: 35회\n",
            "  - 퍼즐: 32회\n",
            "  - 캐릭터: 29회\n",
            "  - 엔딩: 29회\n",
            "  - 추천: 28회\n",
            "  - 버그: 26회\n",
            "  - 이야기: 26회\n",
            "  - 선택: 25회\n",
            "  - 난이도: 25회\n",
            "  - 한글: 24회\n",
            "  - 아이템: 22회\n",
            "  - 번역: 21회\n",
            "\n",
            "[안정기(Stable) 리뷰 핵심 키워드]\n",
            "  (상위 15개 키워드)\n",
            "  - 하자: 87회\n",
            "  - 멀티: 73회\n",
            "  - 제발: 47회\n",
            "  - 먼저: 46회\n",
            "  - 추가: 30회\n",
            "  - 스토리: 24회\n",
            "  - 패치: 22회\n",
            "  - 친구: 21회\n",
            "  - 한글: 20회\n",
            "  - 시작: 19회\n",
            "  - 다시: 18회\n",
            "  - 진행: 17회\n",
            "  - 추천: 16회\n",
            "  - 재미: 16회\n",
            "  - 업데이트: 16회\n",
            "\n",
            "\n",
            "=============== 분석 장르 그룹: Strategy/Indie ===============\n",
            "\n",
            "[초기(Early) 리뷰 핵심 키워드]\n",
            "  (상위 15개 키워드)\n",
            "  - 도전: 54회\n",
            "  - 과제: 54회\n",
            "  - 스팀: 22회\n",
            "  - 패치: 19회\n",
            "  - 레벨: 17회\n",
            "  - 건물: 16회\n",
            "  - 배치: 15회\n",
            "  - 만원: 15회\n",
            "  - 가격: 15회\n",
            "  - 클리어: 15회\n",
            "  - 스토리: 14회\n",
            "  - 추가: 12회\n",
            "  - 그림: 12회\n",
            "  - 진행: 11회\n",
            "  - 다시: 11회\n",
            "\n",
            "[안정기(Stable) 리뷰 핵심 키워드]\n",
            "  (상위 15개 키워드)\n",
            "  - 스팀: 636회\n",
            "  - 프로필: 615회\n",
            "  - 해결: 20회\n",
            "  - 시작: 16회\n",
            "  - 추가: 16회\n",
            "  - 구매: 15회\n",
            "  - 설정: 14회\n",
            "  - 진행: 13회\n",
            "  - 친구: 12회\n",
            "  - 캐릭터: 12회\n",
            "  - 모드: 12회\n",
            "  - 화면: 12회\n",
            "  - 리뷰: 11회\n",
            "  - 현실: 11회\n",
            "  - 시스템: 11회\n"
          ]
        }
      ]
    },
    {
      "cell_type": "markdown",
      "source": [
        "## 4.인사이트"
      ],
      "metadata": {
        "id": "eo6U_kmR7cj4"
      }
    },
    {
      "cell_type": "markdown",
      "source": [
        "1. 리뷰의 골든 타임은 존재할까?\n",
        "    - 통계적 설명력은 부족함\n",
        "    - 한국어 외 리뷰 키워드에서는 출시 초기와 이후의 리뷰 차이점은 보기 힘들었음\n",
        "    - 한국어 리뷰 키워드에서는 출시 초기와 이후의 차이점을 확인 할 수 있었음"
      ],
      "metadata": {
        "id": "6YKFywBP7iS2"
      }
    },
    {
      "cell_type": "markdown",
      "source": [
        "2. 통계적 유의성 판단\n",
        "    - 리뷰 시점과 유저 반응(도움돼요, 웃겨요 등) 사이에는 통계적 '유의성'이 거의 없거나 실제 '영향력'도 매우 낮음\n",
        "    - 단순히 '언제' 작성되었는지는 중요하지 않음\n",
        "    - '리뷰 시점'과 '리뷰 내용'을 확인하기 위해 키워드 분석 진행"
      ],
      "metadata": {
        "id": "38E5oekT8gLJ"
      }
    },
    {
      "cell_type": "markdown",
      "source": [
        "3. 초기 리뷰 vs 안정기 리뷰\n",
        "    - 해외 리뷰 : 패턴이 잘 보이지 않음\n",
        "        - 각 나라별로 추출하면 다를 수 있겠지만 그룹 사이에 뚜럿한 차이가 보이지 않습니다.\n",
        "\n",
        "    - 한국어 리뷰 : 패턴이 보임\n",
        "        - 초기 : \"이 게임, 내 돈과 시간을 쓸 가치가 있는가?\"\n",
        "            - 가치 판단: 가격, 구매, 추천, 스토리, 캐릭터, 엔딩<br>기술적 문제: 버그, 패치, 멀티(구동 여부)\n",
        "        - 안정기 : \"우리는 이 게임을 어떻게 함께 즐기고 있는가?\"\n",
        "            - 사회적 상호작용: 친구, 멀티(함께하기)<br>장기적 콘텐츠: 도전과제, 추가, 업데이트<br>커뮤니티 문화: 운영, 소통, 인생, 재미"
      ],
      "metadata": {
        "id": "ezhYEbUh9Nxp"
      }
    },
    {
      "cell_type": "markdown",
      "source": [
        "4. 최종 제안\n",
        "    - 출시 초기 (0~3개월): 제품 관리자(Product Manager)의 시대\n",
        "        - 집중할 것: 버그 수정, 서버 안정화, 가격 정책, 핵심 콘텐츠의 완성도.\n",
        "        - 들을 목소리: \"스토리가 짧아요\", \"버그 때문에 진행이 안 돼요\", \"가격이 비싸요.\"\n",
        "    - 출시 안정기 (6개월~): 커뮤니티 매니저(Community Manager)의 시대\n",
        "        - 집중할 것: 유저 간의 소통 활성화, 커뮤니티 밈(Meme)의 이해, 장기적 업데이트 계획 공유, 소통.\n",
        "        - 들을 목소리: \"친구랑 할 만한 콘텐츠가 부족해요\", \"운영진과 소통하고 싶어요\", \"다음 업데이트는 언제인가요?\""
      ],
      "metadata": {
        "id": "T8dvdjIz9Vd9"
      }
    }
  ]
}