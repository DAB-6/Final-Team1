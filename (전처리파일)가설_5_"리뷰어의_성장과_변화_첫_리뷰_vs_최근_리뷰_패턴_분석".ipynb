{
  "nbformat": 4,
  "nbformat_minor": 0,
  "metadata": {
    "colab": {
      "provenance": [],
      "toc_visible": true,
      "authorship_tag": "ABX9TyNLROjnpS6Wz4sGjKu7hGGQ",
      "include_colab_link": true
    },
    "kernelspec": {
      "name": "python3",
      "display_name": "Python 3"
    },
    "language_info": {
      "name": "python"
    }
  },
  "cells": [
    {
      "cell_type": "markdown",
      "metadata": {
        "id": "view-in-github",
        "colab_type": "text"
      },
      "source": [
        "<a href=\"https://colab.research.google.com/github/Yunseokjin/Final-Team1/blob/main/(%EC%A0%84%EC%B2%98%EB%A6%AC%ED%8C%8C%EC%9D%BC)%EA%B0%80%EC%84%A4_5_%22%EB%A6%AC%EB%B7%B0%EC%96%B4%EC%9D%98_%EC%84%B1%EC%9E%A5%EA%B3%BC_%EB%B3%80%ED%99%94_%EC%B2%AB_%EB%A6%AC%EB%B7%B0_vs_%EC%B5%9C%EA%B7%BC_%EB%A6%AC%EB%B7%B0_%ED%8C%A8%ED%84%B4_%EB%B6%84%EC%84%9D%22.ipynb\" target=\"_parent\"><img src=\"https://colab.research.google.com/assets/colab-badge.svg\" alt=\"Open In Colab\"/></a>"
      ]
    },
    {
      "cell_type": "markdown",
      "source": [
        "# 0.라이브러리"
      ],
      "metadata": {
        "id": "aha5Tq19nB2G"
      }
    },
    {
      "cell_type": "code",
      "source": [
        "#한글 글씨 폰트 설치\n",
        "%%capture\n",
        "!sudo apt-get install -y fonts-nanum\n",
        "!sudo fc-cache -fv\n",
        "!rm ~/.cache/matplotlib -rf\n",
        "\n",
        "import matplotlib.pyplot as plt\n",
        "import matplotlib.font_manager as fm\n",
        "fm.fontManager.addfont('/usr/share/fonts/truetype/nanum/NanumGothic.ttf')\n",
        "plt.rcParams['font.family'] = 'NanumGothic'\n",
        "\n",
        "# 표에서 ('-') 마이너스 표시\n",
        "plt.rcParams['axes.unicode_minus'] = False"
      ],
      "metadata": {
        "id": "eydMr_y2nU3L"
      },
      "execution_count": null,
      "outputs": []
    },
    {
      "cell_type": "code",
      "source": [
        "# 필수 라이브러리 설치\n",
        "!pip install konlpy -q\n",
        "!pip install nltk -q"
      ],
      "metadata": {
        "id": "6UVhRW8vnLnI"
      },
      "execution_count": null,
      "outputs": []
    },
    {
      "cell_type": "code",
      "execution_count": null,
      "metadata": {
        "id": "h-38KyJ-m7kB"
      },
      "outputs": [],
      "source": [
        "import pandas as pd\n",
        "import numpy as np\n",
        "import matplotlib.pyplot as plt\n",
        "import seaborn as sns\n",
        "from konlpy.tag import Okt\n",
        "from sklearn.feature_extraction.text import TfidfVectorizer\n",
        "import nltk\n",
        "import re\n",
        "import warnings\n",
        "warnings.filterwarnings('ignore')"
      ]
    },
    {
      "cell_type": "code",
      "source": [
        "print(\"NLTK 필수 데이터를 다운로드합니다...\")\n",
        "nltk.download('punkt', quiet=True)\n",
        "nltk.download('stopwords', quiet=True)\n",
        "nltk.download('wordnet', quiet=True)\n",
        "nltk.download('omw-1.4', quiet=True)\n",
        "nltk.download('punkt_tab', quiet=True) # <<< 문제 해결을 위한 핵심 코드\n",
        "print(\"NLTK 데이터 준비 완료.\")"
      ],
      "metadata": {
        "colab": {
          "base_uri": "https://localhost:8080/"
        },
        "id": "qbgPCEADnQMR",
        "outputId": "44b0c3a1-7f2a-4e17-9593-3c84ed5131dc"
      },
      "execution_count": null,
      "outputs": [
        {
          "output_type": "stream",
          "name": "stdout",
          "text": [
            "NLTK 필수 데이터를 다운로드합니다...\n",
            "NLTK 데이터 준비 완료.\n"
          ]
        }
      ]
    },
    {
      "cell_type": "markdown",
      "source": [
        "# 1.데이터 준비"
      ],
      "metadata": {
        "id": "huOJ6SpjnYW3"
      }
    },
    {
      "cell_type": "code",
      "source": [
        "# ==============================================================================\n",
        "# 1단계 (★★★★★ 최종 수정 ★★★★★): 올바른 timestamp 처리\n",
        "# ==============================================================================\n",
        "print(\"\\n--- 1단계: 데이터 준비 시작 ---\")\n",
        "\n",
        "# 1. 데이터 로드\n",
        "df = pd.read_csv('/content/weighted_score_above_08_250924.csv')\n",
        "print(f\"전체 리뷰 수 (로드 직후): {len(df)}\")\n",
        "\n",
        "# 2. ★★★ 핵심: 필수 칼럼 클리닝 ★★★\n",
        "# author_steamid만 숫자로 변환하고 NaN 제거\n",
        "df['author_steamid'] = pd.to_numeric(df['author_steamid'], errors='coerce')\n",
        "df.dropna(subset=['author_steamid'], inplace=True)\n",
        "df['author_steamid'] = df['author_steamid'].astype('int64')\n",
        "\n",
        "# ★★★★★ (수정) timestamp_created를 문자열에서 바로 datetime으로 변환 ★★★★★\n",
        "df['timestamp_created'] = pd.to_datetime(df['timestamp_created'], errors='coerce')\n",
        "df.dropna(subset=['timestamp_created'], inplace=True) # 변환 실패한 행 제거\n",
        "print(f\"필수 칼럼 클리닝 후 리뷰 수: {len(df)}\")"
      ],
      "metadata": {
        "colab": {
          "base_uri": "https://localhost:8080/"
        },
        "id": "fDiLC4mknYFv",
        "outputId": "8ddb6af5-18f4-4f89-998b-4b4104056a1b"
      },
      "execution_count": null,
      "outputs": [
        {
          "output_type": "stream",
          "name": "stdout",
          "text": [
            "\n",
            "--- 1단계: 데이터 준비 시작 ---\n",
            "전체 리뷰 수 (로드 직후): 188273\n",
            "필수 칼럼 클리닝 후 리뷰 수: 188273\n"
          ]
        }
      ]
    },
    {
      "cell_type": "markdown",
      "source": [
        "# 2.비교그룹 생성"
      ],
      "metadata": {
        "id": "oDqhRRrbnmAM"
      }
    },
    {
      "cell_type": "code",
      "source": [
        "# ==============================================================================\n",
        "# 2단계: 비교 그룹 생성\n",
        "# ==============================================================================\n",
        "print(\"\\n--- 2단계: 비교 그룹 생성 시작 ---\")\n",
        "\n",
        "df_first = df_target_users.groupby('author_steamid').head(1)\n",
        "df_experienced = df_target_users.groupby('author_steamid').tail(3)\n",
        "print(f\"'첫 리뷰' 그룹 샘플 수: {len(df_first)}\")\n",
        "print(f\"'마지막 3개 숙련된 리뷰' 그룹 샘플 수: {len(df_experienced)}\")"
      ],
      "metadata": {
        "colab": {
          "base_uri": "https://localhost:8080/"
        },
        "id": "2SaM2rz8x6K_",
        "outputId": "738b1817-6dba-4517-f2f1-9fb27ab09674"
      },
      "execution_count": null,
      "outputs": [
        {
          "output_type": "stream",
          "name": "stdout",
          "text": [
            "\n",
            "--- 2단계: 비교 그룹 생성 시작 ---\n",
            "'첫 리뷰' 그룹 샘플 수: 1747\n",
            "'마지막 3개 숙련된 리뷰' 그룹 샘플 수: 5241\n"
          ]
        }
      ]
    },
    {
      "cell_type": "markdown",
      "source": [
        "# 3.그룹별비교분석"
      ],
      "metadata": {
        "id": "PO4lxC1wyFxp"
      }
    },
    {
      "cell_type": "code",
      "source": [
        "# ==============================================================================\n",
        "# 3단계: 그룹별 비교 분석\n",
        "# ==============================================================================\n",
        "print(\"\\n--- 3단계: 그룹별 비교 분석 시작 ---\")\n",
        "# (이하 분석 코드는 모두 정상적으로 작동합니다)\n",
        "# ... (이전과 동일한 분석 코드) ...\n",
        "first_positive_ratio = df_first['voted_up'].mean()\n",
        "exp_positive_ratio = df_experienced['voted_up'].mean()\n",
        "print(\"\\n[분석 1: 평가 관대함 비교 (긍정 리뷰 비율)]\")\n",
        "print(f\"첫 리뷰 그룹의 긍정 리뷰 비율: {first_positive_ratio:.2%}\")\n",
        "print(f\"숙련된 리뷰 그룹의 긍정 리뷰 비율: {exp_positive_ratio:.2%}\")\n",
        "\n",
        "df_first['review_length'] = df_first['translated_en'].str.split().str.len().fillna(0)\n",
        "df_experienced['review_length'] = df_experienced['translated_en'].str.split().str.len().fillna(0)\n",
        "print(\"\\n[분석 2: 리뷰 스타일 비교 (리뷰 길이 - 단어 수)]\")\n",
        "print(f\"첫 리뷰 그룹의 평균 리뷰 길이: {df_first['review_length'].mean():.1f} 단어\")\n",
        "print(f\"숙련된 리뷰 그룹의 평균 리뷰 길이: {df_experienced['review_length'].mean():.1f} 단어\")\n",
        "\n",
        "plt.figure(figsize=(10, 6))\n",
        "sns.boxplot(data=[df_first['review_length'], df_experienced['review_length']], showfliers=False)\n",
        "plt.xticks([0, 1], ['첫 리뷰 그룹', '숙련된 리뷰 그룹'])\n",
        "plt.title('그룹별 리뷰 길이 분포 비교 (이상치 제외)')\n",
        "plt.ylabel('리뷰 단어 수')\n",
        "plt.grid(True)\n",
        "plt.show()"
      ],
      "metadata": {
        "colab": {
          "base_uri": "https://localhost:8080/",
          "height": 717
        },
        "id": "lZRFiPJ8yAuc",
        "outputId": "23142dc5-bfab-4ace-d37c-cf8c3fb78da8"
      },
      "execution_count": null,
      "outputs": [
        {
          "output_type": "stream",
          "name": "stdout",
          "text": [
            "\n",
            "--- 3단계: 그룹별 비교 분석 시작 ---\n",
            "\n",
            "[분석 1: 평가 관대함 비교 (긍정 리뷰 비율)]\n",
            "첫 리뷰 그룹의 긍정 리뷰 비율: 93.30%\n",
            "숙련된 리뷰 그룹의 긍정 리뷰 비율: 91.30%\n",
            "\n",
            "[분석 2: 리뷰 스타일 비교 (리뷰 길이 - 단어 수)]\n",
            "첫 리뷰 그룹의 평균 리뷰 길이: 69.6 단어\n",
            "숙련된 리뷰 그룹의 평균 리뷰 길이: 70.0 단어\n"
          ]
        },
        {
          "output_type": "display_data",
          "data": {
            "text/plain": [
              "<Figure size 1000x600 with 1 Axes>"
            ],
            "image/png": "[encoded data removed]"
          },
          "metadata": {}
        }
      ]
    },
    {
      "cell_type": "markdown",
      "source": [
        "# 4.그룹별 부정리뷰 키워드"
      ],
      "metadata": {
        "id": "GUfPsn2Nx3pP"
      }
    },
    {
      "cell_type": "code",
      "source": [
        "# ==============================================================================\n",
        "# 3-3. (최종 수정) '부정 리뷰' 키워드 재분석 (불용어 강화)\n",
        "# ==============================================================================\n",
        "print(\"\\n[분석 3 (최종 수정): '부정 리뷰' 내용 비교 (핵심 키워드)]\")\n",
        "\n",
        "# 1. NLP 분석 함수 및 객체 정의 (이전과 동일)\n",
        "from konlpy.tag import Okt\n",
        "from sklearn.feature_extraction.text import TfidfVectorizer\n",
        "import nltk\n",
        "\n",
        "okt = Okt()\n",
        "lemmatizer = nltk.stem.WordNetLemmatizer()\n",
        "def english_tokenizer(text):\n",
        "    tokens = nltk.word_tokenize(str(text))\n",
        "    return [lemmatizer.lemmatize(word) for word in tokens if len(word) > 1]\n",
        "def korean_tokenizer(text):\n",
        "    tokens = okt.pos(str(text), stem=True)\n",
        "    return [word for word, pos in tokens if pos in ['Noun', 'Verb', 'Adjective'] and len(word) > 1]\n",
        "\n",
        "# 2. 부정 리뷰 데이터 준비 (이전과 동일)\n",
        "df_first_neg = df_first[df_first['voted_up'] == 0]\n",
        "df_experienced_neg = df_experienced[df_experienced['voted_up'] == 0]\n",
        "print(f\"\\n'첫 부정 리뷰' 샘플 수: {len(df_first_neg)}\")\n",
        "print(f\"'숙련된 부정 리뷰' 샘플 수: {len(df_experienced_neg)}\")\n",
        "\n",
        "\n",
        "# (이하 키워드 추출 로직은 동일)\n",
        "def extract_top_keywords(corpus, tokenizer_func, stop_words, top_n=15):\n",
        "    if len(corpus) < 2: return [], []\n",
        "    vectorizer = TfidfVectorizer(tokenizer=tokenizer_func, stop_words=stop_words, max_features=1000, min_df=2)\n",
        "    tfidf_matrix = vectorizer.fit_transform(corpus)\n",
        "    feature_names = vectorizer.get_feature_names_out()\n",
        "    scores_first = tfidf_matrix[0].toarray().flatten()\n",
        "    scores_exp = tfidf_matrix[1].toarray().flatten()\n",
        "    top_indices_first = scores_first.argsort()[-top_n:][::-1]\n",
        "    top_keywords_first = [feature_names[idx] for idx in top_indices_first]\n",
        "    top_indices_exp = scores_exp.argsort()[-top_n:][::-1]\n",
        "    top_keywords_exp = [feature_names[idx] for idx in top_indices_exp]\n",
        "    return top_keywords_first, top_keywords_exp\n",
        "\n",
        "\n",
        "# ★★★★★ (수정) 불용어 사전 강화 ★★★★★\n",
        "\n",
        "# 영어(번역본) 부정 리뷰 분석\n",
        "en_stop_words = list(nltk.corpus.stopwords.words('english'))\n",
        "# 기본 불용어 + 1차 분석에서 나온 공통 키워드 추가\n",
        "en_stop_words.extend([\n",
        "    'game', 'play', 'player', 'get', 'go', 'like', 'one', 'time', 'even', 'make', 'good', 'wa', 'ha', 'would',\n",
        "    'first', 'see', 'played', 'still', 'really', 'people', 'new', 'year', 'buy', 'going', 'need'\n",
        "])\n",
        "corpus_first_en_neg = ' '.join(df_first_neg[df_first_neg['language'] != 'koreana']['translated_en'].dropna())\n",
        "corpus_exp_en_neg = ' '.join(df_experienced_neg[df_experienced_neg['language'] != 'koreana']['translated_en'].dropna())\n",
        "keywords_first_en_neg, keywords_exp_en_neg = extract_top_keywords([corpus_first_en_neg, corpus_exp_en_neg], english_tokenizer, en_stop_words)\n",
        "\n",
        "# 한국어 부정 리뷰 분석\n",
        "ko_stop_words = [\n",
        "    '게임', '플레이', '유저', '하다', '있다', '되다', '없다', '이다', '같다', '그냥', '너무',\n",
        "    # 1차 분석에서 나온 공통 키워드 추가\n",
        "    '않다', '생각', '진짜', '크다', '부분', '때문', '일단', '이상', '어떻다', '보다', '나오다', '이건', '아니다',\n",
        "    # 욕설\n",
        "\n",
        "]\n",
        "corpus_first_ko_neg = ' '.join(df_first_neg[df_first_neg['language'] == 'koreana']['translated_en'].dropna())\n",
        "corpus_exp_ko_neg = ' '.join(df_experienced_neg[df_experienced_neg['language'] == 'koreana']['translated_en'].dropna())\n",
        "keywords_first_ko_neg, keywords_exp_ko_neg = extract_top_keywords([corpus_first_ko_neg, corpus_exp_ko_neg], korean_tokenizer, ko_stop_words)\n",
        "\n",
        "\n",
        "# --- 최종 결과 출력 ---\n",
        "print(\"\\n--- 영어(번역본) '부정 리뷰' 고유 키워드 비교 ---\")\n",
        "print(f\"[첫 부정 리뷰 그룹]: {keywords_first_en_neg}\")\n",
        "print(f\"[숙련된 부정 리뷰 그룹]: {keywords_exp_en_neg}\")\n",
        "\n",
        "print(\"\\n--- 한국어 '부정 리뷰' 고유 키워드 비교 ---\")\n",
        "print(f\"[첫 부정 리뷰 그룹]: {keywords_first_ko_neg}\")\n",
        "print(f\"[숙련된 부정 리뷰 그룹]: {keywords_exp_ko_neg}\")"
      ],
      "metadata": {
        "colab": {
          "base_uri": "https://localhost:8080/"
        },
        "id": "CBYDjnBDy5KP",
        "outputId": "4fce6e21-4655-4703-c198-f7694e418ea2"
      },
      "execution_count": null,
      "outputs": [
        {
          "output_type": "stream",
          "name": "stdout",
          "text": [
            "\n",
            "[분석 3 (최종 수정): '부정 리뷰' 내용 비교 (핵심 키워드)]\n",
            "\n",
            "'첫 부정 리뷰' 샘플 수: 117\n",
            "'숙련된 부정 리뷰' 샘플 수: 456\n",
            "\n",
            "--- 영어(번역본) '부정 리뷰' 고유 키워드 비교 ---\n",
            "[첫 부정 리뷰 그룹]: ['world', 'want', 'price', 'way', 'problem', 'please', 'arcade', 'best', 'know', 'also', 'enemy', 'give', 'away', 'find', 'playing']\n",
            "[숙련된 부정 리뷰 그룹]: ['point', 'dlc', 'official', 'chinese', 'fancy', 'release', 'gameplay', 'original', 'character', 'version', 'also', 'wanted', 'three', 'story', 'back']\n",
            "\n",
            "--- 한국어 '부정 리뷰' 고유 키워드 비교 ---\n",
            "[첫 부정 리뷰 그룹]: ['수준', '싶다', '만원', '보고', '이르다', '씨발', '받다', '비교', '바꾸다', '동안', '개발', '가격']\n",
            "[숙련된 부정 리뷰 그룹]: ['개발', '비교', '이르다', '씨발', '수준', '싶다', '받다', '보고', '바꾸다', '만원', '동안', '가격']\n"
          ]
        }
      ]
    },
    {
      "cell_type": "markdown",
      "source": [
        "# 5.인사이트"
      ],
      "metadata": {
        "id": "1kIg5gmUw9wv"
      }
    },
    {
      "cell_type": "markdown",
      "source": [
        "### 첫 리뷰 그룹\n",
        "    - 영어권 핵심 키워드: price, problem, want, world, enemy\n",
        "    - 한국어 핵심 키워드: 가격, 만원, 수준, 보고\n",
        "    - 분석: \"이 게임에 지금 당장 돈과 시간을 투자할 가치가 있는가?\""
      ],
      "metadata": {
        "id": "4wjzlnJQ0AyE"
      }
    },
    {
      "cell_type": "markdown",
      "source": [
        "### 숙련된 리뷰 그룹\n",
        "    - 영어권 핵심 키워드: dlc, official, release, version, original, gameplay, character, story\n",
        "    - 한국어 핵심 키워드: 개발, 비교\n",
        "    - 분석: \"이 게임의 규칙과 시스템은 얼마나 정교하며, 앞으로도 계속 신뢰하고 즐길 만한가?\"\n",
        "        - 개발 및 운영에 대한 비판 : \"정식(official) 서버 관리가 엉망이다\", \"새로운 버전(version)이 출시(release)되면서 게임이 나빠졌다\"\n",
        "        - 콘텐츠 깊이에 대한 분석 : dlc, original, gameplay\n",
        "        - 외부 요인 : chinese(커뮤니티 or 핵 관련 문제일 가능성)"
      ],
      "metadata": {
        "id": "3A5UnZnV0LLt"
      }
    },
    {
      "cell_type": "markdown",
      "source": [
        "### 결론\n",
        "\n",
        "- 리뷰 경험을 쌓으면서 게임을 평가하는 관점이 변화하는 것은 보편적인 성장 패턴으로 보인다.\n",
        "- 성공적인 게임 개발과 운영을 위해서, '첫인상'과 '깊이'를 모두 잡는 전략이 필요"
      ],
      "metadata": {
        "id": "-BNdtBsG08gC"
      }
    },
    {
      "cell_type": "code",
      "source": [],
      "metadata": {
        "id": "k0vS4ipBz_lc"
      },
      "execution_count": null,
      "outputs": []
    }
  ]
}